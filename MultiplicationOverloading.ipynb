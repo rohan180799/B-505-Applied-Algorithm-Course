{
 "cells": [
  {
   "cell_type": "code",
   "execution_count": 1,
   "id": "c5b08ae5",
   "metadata": {},
   "outputs": [
    {
     "name": "stdout",
     "output_type": "stream",
     "text": [
      "(10,24)\n"
     ]
    }
   ],
   "source": [
    "class MultiplicationOverloading:\n",
    "\tdef __init__(self, x=0, y=0):\n",
    "\t\tself.x = x\n",
    "\t\tself.y = y\n",
    "\t\t\n",
    "\tdef __str__(self):\n",
    "\t\treturn \"({0},{1})\".format(self.x,self.y)\n",
    "\t\t\n",
    "\tdef __mul__(self, other):\n",
    "\t\tx = self.x * other.x\n",
    "\t\ty = self.y * other.y\n",
    "        return MultiplicationOverloading(x,y)\n",
    "\t\t\n",
    "p1 = MultiplicationOverloading(2,4)\n",
    "p2 = MultiplicationOverloading(5,6)\n",
    "\n",
    "print(p1*p2)"
   ]
  },
  {
   "cell_type": "code",
   "execution_count": null,
   "id": "a81169a2",
   "metadata": {},
   "outputs": [],
   "source": []
  }
 ],
 "metadata": {
  "kernelspec": {
   "display_name": "Python 3 (ipykernel)",
   "language": "python",
   "name": "python3"
  },
  "language_info": {
   "codemirror_mode": {
    "name": "ipython",
    "version": 3
   },
   "file_extension": ".py",
   "mimetype": "text/x-python",
   "name": "python",
   "nbconvert_exporter": "python",
   "pygments_lexer": "ipython3",
   "version": "3.8.11"
  }
 },
 "nbformat": 4,
 "nbformat_minor": 5
}
