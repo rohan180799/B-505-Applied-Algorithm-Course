{
 "cells": [
  {
   "cell_type": "code",
   "execution_count": 1,
   "metadata": {},
   "outputs": [],
   "source": [
    "import random\n",
    "import string\n",
    "import time"
   ]
  },
  {
   "cell_type": "markdown",
   "metadata": {},
   "source": [
    "### Generate random string by letter set and size"
   ]
  },
  {
   "cell_type": "code",
   "execution_count": 2,
   "metadata": {},
   "outputs": [],
   "source": [
    "def generate_random_strings(letters, size):\n",
    "    return ''.join(random.choice(letters) for i in range(size))"
   ]
  },
  {
   "cell_type": "markdown",
   "metadata": {},
   "source": [
    "### Brute force"
   ]
  },
  {
   "cell_type": "code",
   "execution_count": 3,
   "metadata": {},
   "outputs": [],
   "source": [
    "# Brute force\n",
    "def find_brute(T, P):\n",
    "    n, m = len(T), len(P)\n",
    "    # every starting position\n",
    "    for i in range(n-m+1):\n",
    "        k = 0\n",
    "        # conduct O(k) comparisons\n",
    "        while k < m and T[i+k] == P[k]:\n",
    "            k += 1\n",
    "        if k == m:\n",
    "            return i\n",
    "    return -1"
   ]
  },
  {
   "cell_type": "markdown",
   "metadata": {},
   "source": [
    "### Boyer-Moore"
   ]
  },
  {
   "cell_type": "code",
   "execution_count": 4,
   "metadata": {},
   "outputs": [],
   "source": [
    "# Boyer-Moore\n",
    "def find_boyer_moore(T, P):\n",
    "    n, m = len(T), len(P)\n",
    "    if m == 0: \n",
    "        return 0\n",
    "    last = {}\n",
    "    for k in range(m):\n",
    "        last[P[k]] = k\n",
    "    i = m-1\n",
    "    k = m-1\n",
    "    while i < n:\n",
    "        # If match, decrease i,k\n",
    "        if T[i] == P[k]:\n",
    "            if k == 0:\n",
    "                return i\n",
    "            else:\n",
    "                i -= 1\n",
    "                k -= 1\n",
    "        # Not match, reset the positions\n",
    "        else:\n",
    "            j = last.get(T[i], -1)\n",
    "            i += m - min(k, j+1)\n",
    "            k = m-1\n",
    "    return -1"
   ]
  },
  {
   "cell_type": "markdown",
   "metadata": {},
   "source": [
    "### KMP"
   ]
  },
  {
   "cell_type": "code",
   "execution_count": 5,
   "metadata": {},
   "outputs": [],
   "source": [
    "# KMP failure function\n",
    "def compute_kmp_fail(P):\n",
    "    m = len(P)\n",
    "    fail = [0] * m\n",
    "    j = 1\n",
    "    k = 0\n",
    "    while j < m:\n",
    "        if P[j] == P[k]:\n",
    "            fail[j] = k+1\n",
    "            j += 1\n",
    "            k += 1\n",
    "        elif k > 0:\n",
    "            k = fail[k-1]\n",
    "        else: \n",
    "            j += 1\n",
    "    return fail"
   ]
  },
  {
   "cell_type": "code",
   "execution_count": 6,
   "metadata": {},
   "outputs": [],
   "source": [
    "# KMP\n",
    "def find_kmp(T, P):\n",
    "    n, m = len(T), len(P)\n",
    "    if m == 0:\n",
    "        return 0\n",
    "    fail = compute_kmp_fail(P)\n",
    "    # print(fail)\n",
    "    j = 0\n",
    "    k = 0\n",
    "    while j < n:\n",
    "        if T[j] == P[k]:\n",
    "            if k == m-1:\n",
    "                return j-m+1\n",
    "            j += 1\n",
    "            k += 1\n",
    "        elif k > 0:\n",
    "            k = fail[k-1]\n",
    "        else:\n",
    "            j += 1\n",
    "    return -1"
   ]
  },
  {
   "cell_type": "markdown",
   "metadata": {},
   "source": [
    "### You can write you own comparison function"
   ]
  },
  {
   "cell_type": "code",
   "execution_count": 7,
   "metadata": {},
   "outputs": [],
   "source": [
    "# compare the three algorithms\n",
    "def compare(T, P):\n",
    "    startTime = time.time()\n",
    "    index = find_brute(T, P)\n",
    "    endTime = time.time()\n",
    "    print(\"Brute force takes {:f}s to run and returns {:d}\".format(endTime-startTime, index))\n",
    "\n",
    "    startTime = time.time()\n",
    "    index = find_boyer_moore(T, P)\n",
    "    endTime = time.time()\n",
    "    print(\"Boyer More takes {:f}s to run and returns {:d}\".format(endTime-startTime, index))\n",
    "\n",
    "    startTime = time.time()\n",
    "    index = find_kmp(T, P)\n",
    "    endTime = time.time()\n",
    "    print(\"KMP takes {:f}s to run and returns {:d}\".format(endTime-startTime, index))\n",
    "    "
   ]
  },
  {
   "cell_type": "markdown",
   "metadata": {},
   "source": [
    "### Example"
   ]
  },
  {
   "cell_type": "code",
   "execution_count": 10,
   "metadata": {},
   "outputs": [],
   "source": [
    "# set random seed so you will always get the same random_string\n",
    "random.seed(1000)\n",
    "# Play with letter_set\n",
    "letter_set = \"ATGC\"\n",
    "letter_set = string.ascii_letters\n",
    "\n",
    "random_string = generate_random_strings(letter_set, 10**7)"
   ]
  },
  {
   "cell_type": "code",
   "execution_count": 12,
   "metadata": {},
   "outputs": [
    {
     "name": "stdout",
     "output_type": "stream",
     "text": [
      "Brute force takes 1.405657s to run and returns 10000000\n",
      "Boyer More takes 0.004854s to run and returns 10000000\n",
      "KMP takes 1.271713s to run and returns 10000000\n"
     ]
    }
   ],
   "source": [
    "pattern = generate_random_strings(\"ATGC\", 1000)\n",
    "\n",
    "# append pattern to the end of string\n",
    "test_string = random_string + pattern\n",
    "compare(test_string, pattern)"
   ]
  },
  {
   "cell_type": "markdown",
   "metadata": {},
   "source": [
    "## Have fun with the three algorithms\n",
    "### Understand each algorithm\n",
    "- read algorithm implementations\n",
    "\n",
    "### Thins you can change\n",
    "- Letter set: small set (eg \"ATGC\") vs large set (eg. all letters string.letters)\n",
    "- Pattern: random string vs string with certain pattern\n",
    "    - pattern size\n",
    "    - kmp failure function\n",
    "    \n",
    "### Explore\n",
    "- When Boyer-Moore is fastest\n",
    "- When Boyer-Moore is slowest\n",
    "- When KMP is fastest"
   ]
  },
  {
   "cell_type": "code",
   "execution_count": null,
   "metadata": {},
   "outputs": [],
   "source": []
  }
 ],
 "metadata": {
  "kernelspec": {
   "display_name": "Python 3 (ipykernel)",
   "language": "python",
   "name": "python3"
  },
  "language_info": {
   "codemirror_mode": {
    "name": "ipython",
    "version": 3
   },
   "file_extension": ".py",
   "mimetype": "text/x-python",
   "name": "python",
   "nbconvert_exporter": "python",
   "pygments_lexer": "ipython3",
   "version": "3.8.11"
  }
 },
 "nbformat": 4,
 "nbformat_minor": 2
}
