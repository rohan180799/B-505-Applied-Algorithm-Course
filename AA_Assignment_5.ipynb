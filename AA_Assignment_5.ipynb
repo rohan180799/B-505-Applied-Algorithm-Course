{
 "cells": [
  {
   "cell_type": "code",
   "execution_count": 7,
   "id": "b8ed9651",
   "metadata": {},
   "outputs": [
    {
     "name": "stdout",
     "output_type": "stream",
     "text": [
      "4\n",
      "[[0, 0, 0, 0, 0], [0, 0, 0, 0, 0], [0, 0, 0, 0, 0], [0, 0, 0, 0, 0], [0, 0, 0, 0, 0]]\n",
      "[[0, 0, 0, 0, 0], [0, 0, 0, 0, 0], [0, 0, 0, 0, 0], [0, 0, 0, 0, 0], [0, 0, 0, 0, 0]]\n",
      "[[0, 6000, 0, 0, 0], [0, 0, 0, 0, 0], [0, 0, 0, 0, 0], [0, 0, 0, 0, 0], [0, 0, 0, 0, 0]]\n",
      "[[0, 6000, 0, 0, 0], [0, 0, 6000, 0, 0], [0, 0, 0, 0, 0], [0, 0, 0, 0, 0], [0, 0, 0, 0, 0]]\n",
      "[[0, 6000, 0, 0, 0], [0, 0, 6000, 0, 0], [0, 0, 0, 24000, 0], [0, 0, 0, 0, 0], [0, 0, 0, 0, 0]]\n",
      "[[0, 6000, 0, 0, 0], [0, 0, 6000, 0, 0], [0, 0, 0, 24000, 0], [0, 0, 0, 0, 36000], [0, 0, 0, 0, 0]]\n",
      "[[0, 6000, 15000, 0, 0], [0, 0, 6000, 0, 0], [0, 0, 0, 24000, 0], [0, 0, 0, 0, 36000], [0, 0, 0, 0, 0]]\n",
      "[[0, 6000, 15000, 0, 0], [0, 0, 6000, 18000, 0], [0, 0, 0, 24000, 0], [0, 0, 0, 0, 36000], [0, 0, 0, 0, 0]]\n",
      "[[0, 6000, 15000, 0, 0], [0, 0, 6000, 18000, 0], [0, 0, 0, 24000, 48000], [0, 0, 0, 0, 36000], [0, 0, 0, 0, 0]]\n",
      "[[0, 6000, 15000, 30000, 0], [0, 0, 6000, 18000, 0], [0, 0, 0, 24000, 48000], [0, 0, 0, 0, 36000], [0, 0, 0, 0, 0]]\n",
      "[[0, 6000, 15000, 30000, 0], [0, 0, 6000, 18000, 30000], [0, 0, 0, 24000, 48000], [0, 0, 0, 0, 36000], [0, 0, 0, 0, 0]]\n",
      "Minimum number of multiplications is 30000\n"
     ]
    }
   ],
   "source": [
    "def MatrixChainOrder(p, n):\n",
    "    print(n-1) \n",
    "    # For simplicity of the program, one\n",
    "    # extra row and one extra column are\n",
    "    # allocated in dp[][]. 0th row and\n",
    "    # 0th column of dp[][] are not used\n",
    "    dp = [[0 for i in range(n)]for i in range(n)]\n",
    "    print(dp)\n",
    "    # dp[i, j] = Minimum number of scalar\n",
    "    # multiplications needed to compute\n",
    "    # the matrix M[i]M[i+1]...M[j] = M[i..j]\n",
    "    # where dimension of M[i] is p[i-1] x p[i]\n",
    "                 \n",
    "    # cost is zero when multiplying one matrix.\n",
    "    for i in range(1, n):\n",
    "        dp[i][i] = 0\n",
    "    print(dp)\n",
    "    # Simply following above recursive formula.\n",
    "    for L in range(1, n - 1):\n",
    "        for i in range(n - L):\n",
    "            dp[i][i + L] = min(dp[i + 1][i + L] +\n",
    "                                p[i - 1] * p[i] * p[i + L],\n",
    "                               dp[i][i + L - 1] +\n",
    "                                p[i - 1] * p[i + L - 1] * p[i + L])\n",
    "            print(dp)\n",
    "    return dp[1][n - 1]\n",
    " \n",
    "# Driver code\n",
    "arr = [10, 20, 30, 40, 30]\n",
    "size = len(arr)\n",
    "print(\"Minimum number of multiplications is\",\n",
    "                 MatrixChainOrder(arr, size))"
   ]
  },
  {
   "cell_type": "code",
   "execution_count": 5,
   "id": "8f51ceff",
   "metadata": {},
   "outputs": [
    {
     "name": "stdout",
     "output_type": "stream",
     "text": [
      "Minimum number of multiplications is 18\n"
     ]
    }
   ],
   "source": [
    "# Python program using memoization\n",
    "import sys\n",
    "dp = [[-1 for i in range(100)] for j in range(100)]\n",
    "\n",
    "# Function for matrix chain multiplication\n",
    "def matrixChainMemoised(p, i, j):\n",
    "\tif(i == j):\n",
    "\t\treturn 0\n",
    "\t\n",
    "\tif(dp[i][j] != -1):\n",
    "\t\treturn dp[i][j]\n",
    "\t\n",
    "\tdp[i][j] = sys.maxsize\n",
    "\t\n",
    "\tfor k in range(i,j):\n",
    "\t\tdp[i][j] = min(dp[i][j], matrixChainMemoised(p, i, k) + matrixChainMemoised(p, k + 1, j)+ p[i - 1] * p[k] * p[j])\n",
    "\t\n",
    "\treturn dp[i][j]\n",
    "\n",
    "def MatrixChainOrder(p,n):\n",
    "\ti = 1\n",
    "\tj = n - 1\n",
    "\treturn matrixChainMemoised(p, i, j)\n",
    "\n",
    "# Driver Code\n",
    "arr = [1, 2, 3, 4]\n",
    "n = len(arr)\n",
    "print(\"Minimum number of multiplications is\",MatrixChainOrder(arr, n))\n",
    "\n",
    "# This code is contributed by rag2127\n",
    "\n"
   ]
  },
  {
   "cell_type": "markdown",
   "id": "d5670f0a",
   "metadata": {},
   "source": [
    "## Brute_Force"
   ]
  },
  {
   "cell_type": "code",
   "execution_count": 9,
   "id": "a0efb5c0",
   "metadata": {},
   "outputs": [
    {
     "name": "stdout",
     "output_type": "stream",
     "text": [
      "Minimum number of multiplications is 38\n"
     ]
    }
   ],
   "source": [
    "# A naive recursive implementation that\n",
    "# simply follows the above optimal\n",
    "# substructure property\n",
    "import sys\n",
    "\n",
    "# Matrix A[i] has dimension p[i-1] x p[i]\n",
    "# for i = 1..n\n",
    "\n",
    "\n",
    "def MatrixChainOrder(p, i, j):\n",
    "\n",
    "\tif i == j:\n",
    "\t\treturn 0\n",
    "\n",
    "\t_min = sys.maxsize\n",
    "\n",
    "\t# place parenthesis at different places\n",
    "\t# between first and last matrix,\n",
    "\t# recursively calculate count of\n",
    "\t# multiplications for each parenthesis\n",
    "\t# placement and return the minimum count\n",
    "\tfor k in range(i, j):\n",
    "\n",
    "\t\tcount = (MatrixChainOrder(p, i, k)\n",
    "\t\t\t\t+ MatrixChainOrder(p, k + 1, j)\n",
    "\t\t\t\t+ p[i-1] * p[k] * p[j])\n",
    "\n",
    "\t\tif count < _min:\n",
    "\t\t\t_min = count\n",
    "\n",
    "\t# Return minimum count\n",
    "\treturn _min\n",
    "\n",
    "\n",
    "# Driver code\n",
    "arr = [1, 2, 3, 4, 5]\n",
    "n = len(arr)\n",
    "\n",
    "print(\"Minimum number of multiplications is\",\n",
    "\tMatrixChainOrder(arr, 1, n-1))\n",
    "\n",
    "# This code is contributed by Aryan Garg\n",
    "\n"
   ]
  },
  {
   "cell_type": "code",
   "execution_count": 11,
   "id": "ce171d4d",
   "metadata": {},
   "outputs": [],
   "source": [
    "import random\n",
    "import string\n",
    "import time"
   ]
  },
  {
   "cell_type": "code",
   "execution_count": 34,
   "id": "a8e884f3",
   "metadata": {},
   "outputs": [
    {
     "name": "stdout",
     "output_type": "stream",
     "text": [
      "['E', 'O', 'D', 'C', 'S', 'e', 'L', 'B', 'h', 'a', 'Q', 'S', 'i']\n"
     ]
    }
   ],
   "source": [
    "def generate_random_strings():\n",
    "#     return ''.join(random.choice(letters) for i in range(size)), :letters, size\n",
    "    MIN_NUM_CHAR = 5\n",
    "    MAX_NUM_CHAR = 25\n",
    "    num_char = random.randint(MIN_NUM_CHAR, MAX_NUM_CHAR)\n",
    "\n",
    "    rand_string = []\n",
    "    for i in range(num_char):\n",
    "        rand_string.append(random.choice(string.ascii_letters))\n",
    "\n",
    "    print(rand_string)\n",
    "generate_random_strings()"
   ]
  },
  {
   "cell_type": "markdown",
   "id": "2ab96ed8",
   "metadata": {},
   "source": [
    "# Pattern matching brute force"
   ]
  },
  {
   "cell_type": "code",
   "execution_count": 13,
   "id": "57ade567",
   "metadata": {},
   "outputs": [],
   "source": [
    "# Brute force\n",
    "def find_brute(T, P):\n",
    "    n, m = len(T), len(P)\n",
    "    # every starting position\n",
    "    for i in range(n-m+1):\n",
    "        k = 0\n",
    "        # conduct O(k) comparisons\n",
    "        while k < m and T[i+k] == P[k]:\n",
    "            k += 1\n",
    "        if k == m:\n",
    "            return i\n",
    "    return -1"
   ]
  },
  {
   "cell_type": "markdown",
   "id": "f503953f",
   "metadata": {},
   "source": [
    "# Pattern matching Boyer Moore"
   ]
  },
  {
   "cell_type": "code",
   "execution_count": 14,
   "id": "0dbe5016",
   "metadata": {},
   "outputs": [],
   "source": [
    "# Boyer-Moore\n",
    "def find_boyer_moore(T, P):\n",
    "    n, m = len(T), len(P)\n",
    "    if m == 0: \n",
    "        return 0\n",
    "    last = {}\n",
    "    for k in range(m):\n",
    "        last[P[k]] = k\n",
    "    i = m-1\n",
    "    k = m-1\n",
    "    while i < n:\n",
    "        # If match, decrease i,k\n",
    "        if T[i] == P[k]:\n",
    "            if k == 0:\n",
    "                return i\n",
    "            else:\n",
    "                i -= 1\n",
    "                k -= 1\n",
    "        # Not match, reset the positions\n",
    "        else:\n",
    "            j = last.get(T[i], -1)\n",
    "            i += m - min(k, j+1)\n",
    "            k = m-1\n",
    "    return -1"
   ]
  },
  {
   "cell_type": "markdown",
   "id": "598abd95",
   "metadata": {},
   "source": [
    "# Pattern matching KMP"
   ]
  },
  {
   "cell_type": "code",
   "execution_count": 15,
   "id": "3302dbec",
   "metadata": {},
   "outputs": [],
   "source": [
    "# KMP failure function\n",
    "def compute_kmp_fail(P):\n",
    "    m = len(P)\n",
    "    fail = [0] * m\n",
    "    j = 1\n",
    "    k = 0\n",
    "    while j < m:\n",
    "        if P[j] == P[k]:\n",
    "            fail[j] = k+1\n",
    "            j += 1\n",
    "            k += 1\n",
    "        elif k > 0:\n",
    "            k = fail[k-1]\n",
    "        else: \n",
    "            j += 1\n",
    "    return fail\n",
    "\n",
    "# KMP\n",
    "def find_kmp(T, P):\n",
    "    n, m = len(T), len(P)\n",
    "    if m == 0:\n",
    "        return 0\n",
    "    fail = compute_kmp_fail(P)\n",
    "    # print(fail)\n",
    "    j = 0\n",
    "    k = 0\n",
    "    while j < n:\n",
    "        if T[j] == P[k]:\n",
    "            if k == m-1:\n",
    "                return j-m+1\n",
    "            j += 1\n",
    "            k += 1\n",
    "        elif k > 0:\n",
    "            k = fail[k-1]\n",
    "        else:\n",
    "            j += 1\n",
    "    return -1"
   ]
  },
  {
   "cell_type": "markdown",
   "id": "5dde665f",
   "metadata": {},
   "source": [
    "# Compare"
   ]
  },
  {
   "cell_type": "code",
   "execution_count": 26,
   "id": "95280fd3",
   "metadata": {},
   "outputs": [],
   "source": [
    "# compare the three algorithms\n",
    "def compare(T, P):\n",
    "    tbf = []\n",
    "    tbm = []\n",
    "    tkmp = []\n",
    "    startTime = time.time()\n",
    "    index = find_brute(T, P)\n",
    "    endTime = time.time()\n",
    "    tbf.append(endTime-startTime)\n",
    "    print(\"Brute force takes {:f}s to run and returns {:d}\".format(endTime-startTime, index))\n",
    "\n",
    "    startTime = time.time()\n",
    "    index = find_boyer_moore(T, P)\n",
    "    endTime = time.time()\n",
    "    tbm.append(endTime-startTime)\n",
    "    print(\"Boyer More takes {:f}s to run and returns {:d}\".format(endTime-startTime, index))\n",
    "\n",
    "    startTime = time.time()\n",
    "    index = find_kmp(T, P)\n",
    "    endTime = time.time()\n",
    "    tkmp.append(endTime-startTime)\n",
    "    print(\"KMP takes {:f}s to run and returns {:d}\".format(endTime-startTime, index))\n",
    "    \n",
    "    print(tbf)\n",
    "    print(tbm)\n",
    "    print(tkmp)\n",
    "    "
   ]
  },
  {
   "cell_type": "markdown",
   "id": "f15cccca",
   "metadata": {},
   "source": [
    "# Example"
   ]
  },
  {
   "cell_type": "code",
   "execution_count": 29,
   "id": "31db862d",
   "metadata": {},
   "outputs": [],
   "source": [
    "# set random seed so you will always get the same random_string\n",
    "random.seed(100)\n",
    "# Play with letter_set\n",
    "letter_set = \"ATGC\"\n",
    "letter_set = string.ascii_letters\n",
    "\n",
    "random_string = generate_random_strings(letter_set, 10**7)"
   ]
  },
  {
   "cell_type": "code",
   "execution_count": 30,
   "id": "d4e9b345",
   "metadata": {},
   "outputs": [
    {
     "name": "stdout",
     "output_type": "stream",
     "text": [
      "Brute force takes 1.370067s to run and returns 10000000\n",
      "Boyer More takes 0.037705s to run and returns 10000000\n",
      "KMP takes 1.279433s to run and returns 10000000\n",
      "[1.3700671195983887]\n",
      "[0.0377049446105957]\n",
      "[1.279433012008667]\n"
     ]
    }
   ],
   "source": [
    "pattern = generate_random_strings(\"ATGC\", 100)\n",
    "\n",
    "# append pattern to the end of string\n",
    "test_string = random_string + pattern\n",
    "compare(test_string, pattern)"
   ]
  },
  {
   "cell_type": "code",
   "execution_count": null,
   "id": "0f5b343f",
   "metadata": {},
   "outputs": [],
   "source": []
  }
 ],
 "metadata": {
  "kernelspec": {
   "display_name": "Python [conda env:aa] *",
   "language": "python",
   "name": "conda-env-aa-py"
  },
  "language_info": {
   "codemirror_mode": {
    "name": "ipython",
    "version": 3
   },
   "file_extension": ".py",
   "mimetype": "text/x-python",
   "name": "python",
   "nbconvert_exporter": "python",
   "pygments_lexer": "ipython3",
   "version": "3.8.11"
  }
 },
 "nbformat": 4,
 "nbformat_minor": 5
}
