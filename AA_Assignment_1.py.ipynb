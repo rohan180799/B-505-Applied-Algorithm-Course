{
 "cells": [
  {
   "cell_type": "markdown",
   "id": "ed2c5dff",
   "metadata": {},
   "source": [
    "# neuron.py"
   ]
  },
  {
   "cell_type": "code",
   "execution_count": null,
   "id": "4e819837",
   "metadata": {},
   "outputs": [],
   "source": [
    "def f(x):\n",
    "    if(x>=0):\n",
    "        return 1\n",
    "    else:\n",
    "        return -1"
   ]
  },
  {
   "cell_type": "markdown",
   "id": "7a276b34",
   "metadata": {},
   "source": [
    "# threshold.py"
   ]
  },
  {
   "cell_type": "code",
   "execution_count": 10,
   "id": "8178b7b2",
   "metadata": {},
   "outputs": [
    {
     "name": "stdout",
     "output_type": "stream",
     "text": [
      "   3    1\n",
      "  -2   -1\n",
      "   2    1\n",
      "  -3   -1\n",
      "   8    1\n"
     ]
    }
   ],
   "source": [
    "import neuron\n",
    "import random as rn\n",
    "\n",
    "for _ in range(5):\n",
    "    data = rn.randint(-10,10)\n",
    "    print(\"{0:>4} {1:>4}\".format(data, f(data)))"
   ]
  },
  {
   "cell_type": "code",
   "execution_count": 3,
   "id": "74344f57",
   "metadata": {},
   "outputs": [
    {
     "name": "stdout",
     "output_type": "stream",
     "text": [
      "Collecting neuron\n",
      "  Downloading NEURON-8.0.0-cp38-cp38-macosx_10_9_x86_64.whl (12.4 MB)\n",
      "\u001b[K     |████████████████████████████████| 12.4 MB 883 kB/s eta 0:00:01\n",
      "\u001b[?25hCollecting numpy>=1.9.3\n",
      "  Using cached numpy-1.21.2-cp38-cp38-macosx_10_9_x86_64.whl (16.9 MB)\n",
      "Installing collected packages: numpy, neuron\n",
      "Successfully installed neuron-8.0.0 numpy-1.21.2\n",
      "Note: you may need to restart the kernel to use updated packages.\n"
     ]
    }
   ],
   "source": [
    "pip install neuron"
   ]
  },
  {
   "cell_type": "markdown",
   "id": "9e38b07e",
   "metadata": {},
   "source": [
    "# derivative.py"
   ]
  },
  {
   "cell_type": "code",
   "execution_count": 2,
   "id": "ba7deadc",
   "metadata": {},
   "outputs": [
    {
     "name": "stdout",
     "output_type": "stream",
     "text": [
      "input function: (1/10)*(x**3)\n",
      "value: 2.5\n",
      "1.8750000000178344\n"
     ]
    }
   ],
   "source": [
    "fn = input(\"input function: \")\n",
    "fn = eval(\"lambda x: \" + fn)\n",
    "val = float(input(\"value: \"))\n",
    "def derivative(f):\n",
    "    h = 0.00001\n",
    "    return lambda x: (f(x + h) - f(x - h))/(2*h)\n",
    "print(derivative(fn)(val))"
   ]
  },
  {
   "cell_type": "markdown",
   "id": "49c6f834",
   "metadata": {},
   "source": [
    "# recur.py"
   ]
  },
  {
   "cell_type": "code",
   "execution_count": 5,
   "id": "0672db22",
   "metadata": {},
   "outputs": [
    {
     "name": "stdout",
     "output_type": "stream",
     "text": [
      "120\n"
     ]
    }
   ],
   "source": [
    "def f(n):\n",
    "    if n == 0:\n",
    "        return 1\n",
    "    else:\n",
    "        return n * f(n-1)\n",
    "print(f(5))"
   ]
  },
  {
   "cell_type": "code",
   "execution_count": 8,
   "id": "c3bb9990",
   "metadata": {},
   "outputs": [
    {
     "data": {
      "text/plain": [
       "120"
      ]
     },
     "execution_count": 8,
     "metadata": {},
     "output_type": "execute_result"
    }
   ],
   "source": [
    "def f1(n, acc=1):\n",
    "    if n==0:\n",
    "        return acc\n",
    "    else:\n",
    "        return f1(n-1 , acc*n)\n",
    "f1(5)"
   ]
  },
  {
   "cell_type": "code",
   "execution_count": 1,
   "id": "dd05d219",
   "metadata": {},
   "outputs": [
    {
     "name": "stdout",
     "output_type": "stream",
     "text": [
      "input function: x**3/10\n",
      "value: 2.5\n",
      "1.8750000000178344\n",
      "1.500006785448704\n"
     ]
    }
   ],
   "source": [
    "fn = input(\"input function: \")\n",
    "fn = eval(\"lambda x: \" + fn)\n",
    "val = float(input(\"value: \"))\n",
    "def derivative(f):\n",
    "    h = 0.00001\n",
    "    return lambda x: (f(x + h) - f(x - h))/(2*h)\n",
    "print(derivative(fn)(val))\n",
    "\n",
    "def der2(f):\n",
    "    h = 0.00001\n",
    "    return lambda x: (f(x + 2*h) - 2*f(x + h) + f(x))/(h**2)\n",
    "print(der2(fn)(val))"
   ]
  },
  {
   "cell_type": "code",
   "execution_count": null,
   "id": "a77c7312",
   "metadata": {},
   "outputs": [],
   "source": [
    "n=0\n",
    "while True:\n",
    "    print ('n is {}'.format(n))\n",
    "    "
   ]
  },
  {
   "cell_type": "code",
   "execution_count": 10,
   "id": "b1b88b67",
   "metadata": {},
   "outputs": [
    {
     "name": "stdout",
     "output_type": "stream",
     "text": [
      "[46 53 38 39  3  0 67 71 76 59 39  8 21 99 96 93  7 13 17 19 18 53 29 59\n",
      " 36  2 18 46 52 68 30 86 42 30 14 91 92 56 24 60 40 59 96 48 15 30 69 41\n",
      "  4 67  2 38 20 77 46 82 46 37 32 33 78 11 60 15 34 29 60 46  8 27 69 45\n",
      " 44 67 28  3 69 18 71 27 48 14 65 49  1 38 47 98 82 73 74 88 46 22 27 37\n",
      " 97 42 25 11]\n"
     ]
    }
   ],
   "source": [
    "import numpy as np\n",
    "from numpy import random\n",
    "\n",
    "x = random.randint(100, size=(100))\n",
    "print(x)"
   ]
  },
  {
   "cell_type": "code",
   "execution_count": 32,
   "id": "55d278de",
   "metadata": {},
   "outputs": [
    {
     "name": "stdout",
     "output_type": "stream",
     "text": [
      "44.45\n",
      "726.8560606060606\n"
     ]
    }
   ],
   "source": [
    "def mean(f):\n",
    "    m_mean = sum(f)/len(f)\n",
    "    return m_mean\n",
    "print(mean(x))\n",
    "\n",
    "\n",
    "def variance(f):\n",
    "    v1=0\n",
    "    v2=0\n",
    "    for i in f:\n",
    "        v =(i-mean(f))**2\n",
    "        v1 = v1 + v\n",
    "    v2 = len(x)-1\n",
    "    var= v1/v2\n",
    "    print(var)\n",
    "variance(x)"
   ]
  },
  {
   "cell_type": "code",
   "execution_count": 57,
   "id": "62283371",
   "metadata": {},
   "outputs": [
    {
     "name": "stdout",
     "output_type": "stream",
     "text": [
      "[-100.0, -72.9, -51.2, -34.3, -21.6, -12.5, -6.4, -2.7, -0.8, -0.1, 0.0, 0.1, 0.8, 2.7, 6.4, 12.5, 21.6, 34.3, 51.2, 72.9]\n"
     ]
    }
   ],
   "source": [
    "def fun(f):\n",
    "    f1=(f**3)/10\n",
    "    return f1\n",
    "l = []\n",
    "for x in range(-10,10):\n",
    "    l.append(fun(x))\n",
    "    \n",
    "print(l)"
   ]
  },
  {
   "cell_type": "code",
   "execution_count": 49,
   "id": "bd481b45",
   "metadata": {},
   "outputs": [
    {
     "name": "stdout",
     "output_type": "stream",
     "text": [
      "Collecting matplotlib\n",
      "  Using cached matplotlib-3.4.3-cp38-cp38-macosx_10_9_x86_64.whl (7.2 MB)\n",
      "Requirement already satisfied: python-dateutil>=2.7 in /Applications/anaconda3/envs/aa/lib/python3.8/site-packages (from matplotlib) (2.8.2)\n",
      "Collecting kiwisolver>=1.0.1\n",
      "  Using cached kiwisolver-1.3.2-cp38-cp38-macosx_10_9_x86_64.whl (61 kB)\n",
      "Collecting pillow>=6.2.0\n",
      "  Downloading Pillow-8.3.2-cp38-cp38-macosx_10_10_x86_64.whl (3.0 MB)\n",
      "\u001b[K     |████████████████████████████████| 3.0 MB 4.9 MB/s eta 0:00:01\n",
      "\u001b[?25hRequirement already satisfied: pyparsing>=2.2.1 in /Applications/anaconda3/envs/aa/lib/python3.8/site-packages (from matplotlib) (2.4.7)\n",
      "Requirement already satisfied: numpy>=1.16 in /Applications/anaconda3/envs/aa/lib/python3.8/site-packages (from matplotlib) (1.21.2)\n",
      "Collecting cycler>=0.10\n",
      "  Using cached cycler-0.10.0-py2.py3-none-any.whl (6.5 kB)\n",
      "Requirement already satisfied: six in /Applications/anaconda3/envs/aa/lib/python3.8/site-packages (from cycler>=0.10->matplotlib) (1.16.0)\n",
      "Installing collected packages: pillow, kiwisolver, cycler, matplotlib\n",
      "Successfully installed cycler-0.10.0 kiwisolver-1.3.2 matplotlib-3.4.3 pillow-8.3.2\n",
      "Note: you may need to restart the kernel to use updated packages.\n"
     ]
    }
   ],
   "source": [
    "p = []\n",
    "n = []\n",
    "for i in l:\n",
    "    "
   ]
  },
  {
   "cell_type": "code",
   "execution_count": 80,
   "id": "d15c6b9d",
   "metadata": {},
   "outputs": [
    {
     "data": {
      "image/png": "[encoded data removed]",
      "text/plain": [
       "<Figure size 432x288 with 1 Axes>"
      ]
     },
     "metadata": {
      "needs_background": "light"
     },
     "output_type": "display_data"
    },
    {
     "data": {
      "image/png": "[encoded data removed]",
      "text/plain": [
       "<Figure size 504x504 with 1 Axes>"
      ]
     },
     "metadata": {
      "needs_background": "light"
     },
     "output_type": "display_data"
    },
    {
     "data": {
      "image/png": "[encoded data removed]",
      "text/plain": [
       "<Figure size 432x288 with 1 Axes>"
      ]
     },
     "metadata": {
      "needs_background": "light"
     },
     "output_type": "display_data"
    }
   ],
   "source": [
    "import matplotlib.pyplot as plt\n",
    "x=[-10,10]\n",
    "y=[-100,100]\n",
    "plt.xlim(x)\n",
    "plt.ylim(y)\n",
    "#plt.figure(figsize=(7,7))\n",
    "axis=plt.gca()\n",
    "plt.plot(axis.get_xlim(),[0,0], 'k--')\n",
    "plt.plot([0,0], axis.get_ylim(), 'k--')\n",
    "#plt.plot(x,y,color='k')\n",
    "#plt.plot(l, c='red')\n",
    "fig, ax = plt.subplots()"
   ]
  },
  {
   "cell_type": "code",
   "execution_count": 87,
   "id": "40b44e89",
   "metadata": {},
   "outputs": [
    {
     "data": {
      "image/png": "[encoded data removed]",
      "text/plain": [
       "<Figure size 432x288 with 1 Axes>"
      ]
     },
     "metadata": {
      "needs_background": "light"
     },
     "output_type": "display_data"
    }
   ],
   "source": [
    "import matplotlib.pyplot as plt\n",
    "import numpy as np\n",
    "data = np.linspace(-10,10,100)\n",
    "fn = (1/10)*(data**3)\n",
    "fn1 = (3/10)*(data**2)\n",
    "fig = plt.figure()\n",
    "\n",
    "ax = fig.add_subplot(1, 1, 1)\n",
    "\n",
    "ax.spines['left'].set_position('center')\n",
    "ax.spines['bottom'].set_position('zero')\n",
    "ax.spines['right'].set_color('none')\n",
    "ax.spines['top'].set_color('none')\n",
    "ax.xaxis.set_ticks_position('bottom')\n",
    "ax.yaxis.set_ticks_position('left')\n",
    "plt.title('$f(x) = (1/10)x^3$')\n",
    "plt.plot(data,fn,'r')\n",
    "plt.plot(data,fn1,'b')\n",
    "plt.show()"
   ]
  },
  {
   "cell_type": "code",
   "execution_count": null,
   "id": "551f7c38",
   "metadata": {},
   "outputs": [],
   "source": []
  }
 ],
 "metadata": {
  "kernelspec": {
   "display_name": "Python [conda env:aa] *",
   "language": "python",
   "name": "conda-env-aa-py"
  },
  "language_info": {
   "codemirror_mode": {
    "name": "ipython",
    "version": 3
   },
   "file_extension": ".py",
   "mimetype": "text/x-python",
   "name": "python",
   "nbconvert_exporter": "python",
   "pygments_lexer": "ipython3",
   "version": "3.8.11"
  }
 },
 "nbformat": 4,
 "nbformat_minor": 5
}
