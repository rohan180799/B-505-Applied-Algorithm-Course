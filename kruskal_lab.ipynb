{
 "cells": [
  {
   "cell_type": "code",
   "execution_count": 1,
   "metadata": {},
   "outputs": [],
   "source": [
    "from queue import PriorityQueue"
   ]
  },
  {
   "cell_type": "code",
   "execution_count": 2,
   "metadata": {},
   "outputs": [],
   "source": [
    "# Define graph edge\n",
    "class Edge:\n",
    "    def __init__(self, node1, node2, weight=1.0):\n",
    "        self.node1 = node1\n",
    "        self.node2 = node2\n",
    "        self.weight = weight\n",
    "        \n",
    "    def __lt__(self, other):\n",
    "        selfPriority = self.weight\n",
    "        otherPriority = other.weight\n",
    "        return selfPriority < otherPriority\n"
   ]
  },
  {
   "cell_type": "markdown",
   "metadata": {},
   "source": [
    "## Union Find data structure example\n",
    "\n",
    "The key part is an array position[]\n",
    "\n",
    "Example: A graph of size 5. We add edge (3, 0), (2, 3), (0, 2), (1, 4) and (0, 4)\n",
    "\n",
    "- Initially [0, 1, 2, 3, 4]\n",
    "    - node 0 belongs to cluster 0, node 1 belongs to cluster 1 ...\n",
    "- Add (3, 0): [0, 1, 2, 0, 4]\n",
    "    - node 3 now belongs to cluster 0\n",
    "- Add (2, 3): [0, 1, 0, 0, 4]\n",
    "    - original node 2 -> 2, node 3 -> 0\n",
    "    - now node2 -> 0, node3 -> 0\n",
    "- Add (0, 2)\n",
    "    - node 0 and node 2 are already in the same cluster\n",
    "- Add (1, 4): [0, 1, 0, 0, 1]\n",
    "- Add (0, 4): [0, 0, 0, 0, 0]\n",
    "    - KEY PART: node 1 also changes\n",
    "    - HOW TO INPLEMENT?"
   ]
  },
  {
   "cell_type": "code",
   "execution_count": 3,
   "metadata": {},
   "outputs": [],
   "source": [
    "class UnionFind:\n",
    "    def __init__(self, num_nodes):\n",
    "        # Initially position[i] = i\n",
    "        self.position = [i for i in range(num_nodes)]\n",
    "        \n",
    "    # Return the cluster index\n",
    "    def find(self, node):\n",
    "        if self.position[node] == node:\n",
    "            return node\n",
    "        else:\n",
    "            self.position[node] = self.find(self.position[node])\n",
    "            return self.position[node]\n",
    "    \n",
    "    def union(self, node1, node2):\n",
    "        a = self.find(node1)\n",
    "        b = self.find(node2)\n",
    "        # no need to union\n",
    "        if a == b:\n",
    "            return\n",
    "        # union is needed\n",
    "        else:\n",
    "            if a < b:\n",
    "                self.position[b] = a\n",
    "            else:\n",
    "                self.position[a] = b"
   ]
  },
  {
   "cell_type": "code",
   "execution_count": 17,
   "metadata": {},
   "outputs": [],
   "source": [
    "def kruskal(edge_list, num_nodes):\n",
    "    MST = []   # a list of Edge to return\n",
    "    uf = UnionFind(num_nodes)\n",
    "    \n",
    "    '''\n",
    "    fill in the code here\n",
    "    \n",
    "    1. Put edges in edge_list into PriorityQueue\n",
    "    2. Extract each edge from PriorityQueue\n",
    "        1) check if the two nodes belong to same cluster\n",
    "        2) if no, do something\n",
    "    '''\n",
    "    pq = PriorityQueue()\n",
    "    for e in edge_list:\n",
    "        pq.put(e)\n",
    "    \n",
    "    while len(MST)!= num_nodes - 1 and not pq.empty():\n",
    "        temp = pq.get()\n",
    "        node1, node2, weight = temp.node1, temp.node2, temp.weight\n",
    "        node1_parent = uf.find(node1)\n",
    "        node2_parent = uf.find(node2)\n",
    "        if node1_parent!=node2_parent:\n",
    "            MST.append(Edge(node1,node2, weight))\n",
    "            uf.union(node1_parent, node2_parent)\n",
    "    \n",
    "    return MST"
   ]
  },
  {
   "cell_type": "markdown",
   "metadata": {},
   "source": [
    "## Example of how class PriorityQueue works\n",
    "- serve as a min heap\n",
    "- can work with our class Edge"
   ]
  },
  {
   "cell_type": "code",
   "execution_count": 18,
   "metadata": {},
   "outputs": [
    {
     "name": "stdout",
     "output_type": "stream",
     "text": [
      "3\n",
      "0 1 0.1\n",
      "2\n",
      "1 2 0.2\n",
      "1\n",
      "0 2 0.3\n"
     ]
    }
   ],
   "source": [
    "# example of how PriorityQueue works\n",
    "edges = [Edge(0,1, 0.1), Edge(0,2, 0.3), Edge(1,2, 0.2)]\n",
    "\n",
    "pq = PriorityQueue()\n",
    "for e in edges:\n",
    "    pq.put(e)\n",
    "    \n",
    "while not pq.empty():\n",
    "    print(pq.qsize())\n",
    "    e = pq.get()\n",
    "    print(e.node1, e.node2, e.weight)"
   ]
  },
  {
   "cell_type": "markdown",
   "metadata": {},
   "source": [
    "## Generate a random graph \n",
    "- only generate a edge list\n",
    "- each node has 5 connections\n",
    "- each edge has random weight"
   ]
  },
  {
   "cell_type": "code",
   "execution_count": 19,
   "metadata": {},
   "outputs": [
    {
     "name": "stdout",
     "output_type": "stream",
     "text": [
      " 0,  4, 0.45953\n",
      " 0,  5, 0.70551\n",
      " 0, 11, 0.43351\n",
      " 0,  3, 0.53290\n",
      " 0,  2, 0.73671\n",
      " 1,  8, 0.04789\n",
      " 1,  6, 0.33535\n",
      " 1,  9, 0.83890\n",
      " 1,  6, 0.96086\n",
      " 1,  4, 0.18859\n",
      " 2, 11, 0.37006\n",
      " 2, 13, 0.96332\n",
      " 2,  6, 0.40307\n",
      " 2, 14, 0.55540\n",
      " 2, 12, 0.16042\n"
     ]
    }
   ],
   "source": [
    "import random\n",
    "# Randomly generate a graph of size 20\n",
    "random.seed(100)\n",
    "\n",
    "num_nodes = 20\n",
    "edge_list = []\n",
    "\n",
    "# For each node, add five random edges (may contain parallel edges)\n",
    "node_list = []\n",
    "for node1 in range(num_nodes):\n",
    "    count = 0\n",
    "    while count < 5:\n",
    "        node2 = random.randint(0, num_nodes-1)\n",
    "        if node2 not in node_list and node2 != node1:\n",
    "            count += 1\n",
    "            weight = random.random()   # return [0.0, 1.0]\n",
    "            edge_list.append(Edge(node1, node2, weight))\n",
    "\n",
    "for i in range(15):   # only show first 15 edges\n",
    "    e = edge_list[i]\n",
    "    print(\"{:2d}, {:2d}, {:.5f}\".format(e.node1, e.node2, e.weight))"
   ]
  },
  {
   "cell_type": "markdown",
   "metadata": {},
   "source": [
    "## Test code\n",
    "\n",
    "Run the following codes to test"
   ]
  },
  {
   "cell_type": "code",
   "execution_count": 20,
   "metadata": {},
   "outputs": [
    {
     "name": "stdout",
     "output_type": "stream",
     "text": [
      "The returned MST has 19 edges\n",
      "14,  8, 0.00284\n",
      " 3,  5, 0.00565\n",
      "14, 12, 0.00974\n",
      "16,  2, 0.02284\n",
      "15, 14, 0.03370\n",
      "11, 12, 0.03686\n",
      "14,  9, 0.03775\n",
      "19,  7, 0.04714\n",
      " 1,  8, 0.04789\n",
      "10,  5, 0.04938\n",
      "19,  2, 0.06946\n",
      "18,  8, 0.07317\n",
      "18, 16, 0.11105\n",
      " 4, 12, 0.12662\n",
      "16, 17, 0.14365\n",
      "12, 13, 0.14533\n",
      " 3, 12, 0.14760\n",
      " 6, 13, 0.25253\n",
      " 0, 11, 0.43351\n",
      "The returned MST has total weight: 1.797\n"
     ]
    }
   ],
   "source": [
    "MST = kruskal(edge_list, num_nodes)\n",
    "\n",
    "# Print size of the MST which should be num_nodes-1=19\n",
    "print(\"The returned MST has {} edges\".format(len(MST)))\n",
    "\n",
    "total_weight = 0.0\n",
    "for e in MST:\n",
    "    total_weight += e.weight\n",
    "    print(\"{:2d}, {:2d}, {:.5f}\".format(e.node1, e.node2, e.weight))\n",
    "\n",
    "print(\"The returned MST has total weight: {:.3f}\".format(total_weight))"
   ]
  },
  {
   "cell_type": "code",
   "execution_count": null,
   "metadata": {},
   "outputs": [],
   "source": []
  }
 ],
 "metadata": {
  "kernelspec": {
   "display_name": "Python 3 (ipykernel)",
   "language": "python",
   "name": "python3"
  },
  "language_info": {
   "codemirror_mode": {
    "name": "ipython",
    "version": 3
   },
   "file_extension": ".py",
   "mimetype": "text/x-python",
   "name": "python",
   "nbconvert_exporter": "python",
   "pygments_lexer": "ipython3",
   "version": "3.8.11"
  }
 },
 "nbformat": 4,
 "nbformat_minor": 2
}
