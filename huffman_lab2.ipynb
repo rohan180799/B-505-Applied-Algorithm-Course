{
 "cells": [
  {
   "cell_type": "code",
   "execution_count": 1,
   "metadata": {},
   "outputs": [],
   "source": [
    "class Node:\n",
    "    def __init__(self, char, frequency, left=None, right=None):\n",
    "        self.char = char\n",
    "        self.frequency = frequency\n",
    "        self.left = left\n",
    "        self.right = right"
   ]
  },
  {
   "cell_type": "code",
   "execution_count": 2,
   "metadata": {},
   "outputs": [],
   "source": [
    "# define class binary tree\n",
    "class BinaryTree:\n",
    "    def __init__(self, root):\n",
    "        self.root = root   # class Node\n",
    "        self.frequency = root.frequency  # to simplify heap implementation"
   ]
  },
  {
   "cell_type": "code",
   "execution_count": 3,
   "metadata": {},
   "outputs": [],
   "source": [
    "# Combine two binary trees into one\n",
    "def new_binary_tree(T1, T2):\n",
    "    root_T1 = T1.root\n",
    "    root_T2 = T2.root\n",
    "    freq_T1 = T1.root.frequency\n",
    "    freq_T2 = T2.root.frequency\n",
    "    root = Node(None, freq_T1+freq_T2, root_T1, root_T2)\n",
    "    return BinaryTree(root)"
   ]
  },
  {
   "cell_type": "code",
   "execution_count": 4,
   "metadata": {},
   "outputs": [],
   "source": [
    "# Tree traverasal algorithm to present final results\n",
    "def in_order(node, code):\n",
    "    # reach leaf\n",
    "    if (not node.left) and (not node.right):\n",
    "        print(\"Char {} with code {} and frequency {}\".format(node.char, code, node.frequency))\n",
    "    if node.left:\n",
    "        new_code = code + \"0\"\n",
    "        in_order(node.left, new_code)\n",
    "    if node.right:\n",
    "        new_code = code + \"1\"\n",
    "        in_order(node.right, new_code)\n",
    "        \n",
    "def in_order_traversal(T):\n",
    "    in_order(T.root, \"\")\n",
    "    "
   ]
  },
  {
   "cell_type": "code",
   "execution_count": 5,
   "metadata": {},
   "outputs": [],
   "source": [
    "class PriorityQueue:\n",
    "    def __init__(self):\n",
    "        # put index 0 to empty, use index 1 as start\n",
    "        self.queue = [None]\n",
    "        self.size = 0\n",
    "    \n",
    "    def insert(self, tree):\n",
    "        self.queue.append(tree)\n",
    "        self.size += 1\n",
    "        self.swift_up(self.size)\n",
    "        \n",
    "    def remove_min(self):\n",
    "        # check for boundary condition\n",
    "        if self.size == 0:\n",
    "            print(\"The queue is already empty\")\n",
    "            return\n",
    "        if self.size == 1:\n",
    "            self.size = 0\n",
    "            return self.queue.pop()\n",
    "        # remove the last element\n",
    "        tmp = self.queue.pop()\n",
    "        # store the first element to return\n",
    "        res = self.queue[1]\n",
    "        # move last element to first\n",
    "        self.queue[1] = tmp\n",
    "        # call swift_down\n",
    "        self.size -= 1\n",
    "        self.swift_down(1)\n",
    "        return res\n",
    "        \n",
    "    def swift_up(self, index):\n",
    "        if index == 1:\n",
    "            return\n",
    "        node = self.queue[index]\n",
    "        parent = self.queue[index // 2]\n",
    "        if node.frequency < parent.frequency:\n",
    "            tmp = parent\n",
    "            self.queue[index//2] = node\n",
    "            self.queue[index] = tmp\n",
    "            self.swift_up(index//2)\n",
    "\n",
    "\n",
    "    def swift_down(self, index):\n",
    "        node = self.queue[index]\n",
    "        left_index = 2*index\n",
    "        right_index = 2*index+1\n",
    "        min_frequency = -1\n",
    "        # both index out of range\n",
    "        if left_index > self.size:\n",
    "            return\n",
    "        # left index in range but right index out of range\n",
    "        if right_index > self.size:\n",
    "            left = self.queue[left_index]\n",
    "            min_frequency = min(node.frequency, left.frequency)\n",
    "        # all indices in range\n",
    "        else:\n",
    "            right = self.queue[right_index]\n",
    "            left = self.queue[left_index]\n",
    "            min_frequency = min(node.frequency, right.frequency)\n",
    "            min_frequency = min(min_frequency, left.frequency)\n",
    "        \n",
    "        # check which is minimum\n",
    "        if min_frequency == node.frequency:\n",
    "            return\n",
    "        elif min_frequency == left.frequency:\n",
    "            tmp = left\n",
    "            self.queue[left_index] = node\n",
    "            self.queue[index] = tmp\n",
    "            self.swift_down(left_index)\n",
    "        else:\n",
    "            tmp = right\n",
    "            self.queue[right_index] = node\n",
    "            self.queue[index] = tmp\n",
    "            self.swift_down(right_index)"
   ]
  },
  {
   "cell_type": "code",
   "execution_count": 6,
   "metadata": {},
   "outputs": [],
   "source": [
    "def huffman(S):\n",
    "    # count char frequency in string S\n",
    "    char_to_count = {}\n",
    "    total_char = 0\n",
    "    for c in S:\n",
    "        if c in char_to_count:\n",
    "            char_to_count[c] += 1\n",
    "        else:\n",
    "            char_to_count[c] = 1\n",
    "        \n",
    "    stats_list = []\n",
    "    for k, v in char_to_count.items():\n",
    "        stats_list.append((k, v))\n",
    "    \n",
    "    # insert into Q\n",
    "    Q = PriorityQueue()\n",
    "    for e in stats_list:\n",
    "        leaf = Node(e[0], int(e[1]))\n",
    "        Q.insert(BinaryTree(leaf))\n",
    "                 \n",
    "    while Q.size > 1:\n",
    "        left = Q.remove_min()\n",
    "        right = Q.remove_min()\n",
    "        new_tree = new_binary_tree(left, right)\n",
    "        Q.insert(new_tree)\n",
    "    \n",
    "    res = Q.remove_min()\n",
    "    return res"
   ]
  },
  {
   "cell_type": "code",
   "execution_count": 7,
   "metadata": {},
   "outputs": [
    {
     "name": "stdout",
     "output_type": "stream",
     "text": [
      "Char L with code 000 and frequency 8\n",
      "Char E with code 00100 and frequency 2\n",
      "Char K with code 00101 and frequency 2\n",
      "Char H with code 0011 and frequency 5\n",
      "Char J with code 010 and frequency 11\n",
      "Char D with code 0110 and frequency 6\n",
      "Char N with code 0111 and frequency 6\n",
      "Char S with code 100 and frequency 12\n",
      "Char I with code 10100 and frequency 2\n",
      "Char W with code 101010 and frequency 2\n",
      "Char R with code 1010110 and frequency 1\n",
      "Char U with code 1010111 and frequency 1\n",
      "Char P with code 1011 and frequency 7\n",
      "Char O with code 110 and frequency 13\n",
      "Char F with code 111 and frequency 15\n"
     ]
    }
   ],
   "source": [
    "S = \"LJFSOPDJFLSDFOPOJFODFJSOPJWOENROPFSHJNFWOIPEHNFOPNSFOJKSNDPOFIHSLHNLHFDOSUJLKSFJSLFJFSDOLFJLS\"\n",
    "T = huffman(S)\n",
    "in_order_traversal(T)"
   ]
  },
  {
   "cell_type": "code",
   "execution_count": null,
   "metadata": {},
   "outputs": [],
   "source": []
  }
 ],
 "metadata": {
  "kernelspec": {
   "display_name": "Python 3 (ipykernel)",
   "language": "python",
   "name": "python3"
  },
  "language_info": {
   "codemirror_mode": {
    "name": "ipython",
    "version": 3
   },
   "file_extension": ".py",
   "mimetype": "text/x-python",
   "name": "python",
   "nbconvert_exporter": "python",
   "pygments_lexer": "ipython3",
   "version": "3.8.11"
  }
 },
 "nbformat": 4,
 "nbformat_minor": 2
}
