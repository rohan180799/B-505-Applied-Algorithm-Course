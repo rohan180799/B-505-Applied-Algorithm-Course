{
 "cells": [
  {
   "cell_type": "markdown",
   "id": "2679dab4",
   "metadata": {},
   "source": [
    "<div align='center' ><font size='35'> B505 Assignment-6 solution </font></div>"
   ]
  },
  {
   "cell_type": "markdown",
   "id": "de3a2b8c",
   "metadata": {},
   "source": [
    "<div align='center' >Yu Mo (moyu@iu.edu) </font></div>\n",
    "<div align='center' >work with Ritwik Budhiraja (rbudhira@iu.edu) </font></div>"
   ]
  },
  {
   "cell_type": "markdown",
   "id": "7783af86",
   "metadata": {},
   "source": [
    "# Expectation-Maximization Algorithm\n",
    "##  initialization\n",
    "*  Suppose there are k clusters of which which the prior is $N(\\mu， I_d)$, where $\\mu$ is a d-dimension vector chosen from data randomly, $I_d$ is d-dimension identity matrix. For each cluster, the prior weight is $\\frac{1}{k}$.\n",
    "* Given prior, calculate the posterior probability for each cluster. Then, update the mean, covriance matrix, prior for each cluster. Keep iterating until the algorithm converge.\n",
    "* The stop criteria is  \n",
    "<div align='center' > $\\sum_{i=1,..,k} ||\\mu_i^{t-1}-\\mu_i^{t}||^2<\\epsilon$ </font></div>\n",
    "where $\\epsilon = 10^{-3}$"
   ]
  },
  {
   "cell_type": "code",
   "execution_count": 13,
   "id": "a5edf93c",
   "metadata": {},
   "outputs": [],
   "source": [
    "import csv, matplotlib\n",
    "import numpy as np\n",
    "import matplotlib.pyplot as plt\n",
    "from scipy.stats import multivariate_normal\n",
    "from copy import deepcopy\n",
    "#%% parse data\n",
    "def parse_from_file(fileloc):\n",
    "    with open(fileloc) as csvfile:\n",
    "        csf = list(csv.reader(csvfile))\n",
    "    return np.array([[float(y) for y in x[:-1]] for x in csf]), [x[-1] for x in csf]"
   ]
  },
  {
   "cell_type": "code",
   "execution_count": null,
   "id": "4eb68801",
   "metadata": {},
   "outputs": [],
   "source": [
    "def expecti_max(data,k,eps):\n",
    "    t = 0\n",
    "    n, d = np.shape(data)\n",
    "    mu = np.zeros([k,d])\n",
    "    prob_c = [0] * k\n",
    "    co_var = [0] * k\n",
    "    post_prob = [[0 for j in range(n)] for i in range(k)]\n",
    "    \n",
    "    #random.seed(1)\n",
    "    # initialize Gaussian\n",
    "    for i in range(k):\n",
    "        mu[i,:] = data[np.random.randint(0, n-1),:]\n",
    "        co_var[i] = np.identity(d)\n",
    "        prob_c[i] = 1 / k\n",
    "    \n",
    "    prev_mu = deepcopy(mu)\n",
    "    \n",
    "    while True:\n",
    "        t += 1\n",
    "        # E-Step  \n",
    "        for i in range(k):\n",
    "            for j in range(n):\n",
    "                all_post_prob = [calc_post_pro(data[j], mu[a], co_var[a], prob_c[a]) for a in range(k)]\n",
    "                post_prob[i][j] = all_post_prob[i]/sum(all_post_prob)\n",
    "                    \n",
    "        # M-Step\n",
    "        for i in range(k):\n",
    "            sum_post = sum(post_prob[i])\n",
    "            mu[i] = co_var[i] = 0\n",
    "            for j in range(n):\n",
    "                mu[i] += post_prob[i][j] * data[j] /sum_post\n",
    "                co_var[i] += post_prob[i][j]*np.outer(data[j]-mu[i],data[j]-mu[i])/sum_post\n",
    "            prob_c[i] = sum_post/n\n",
    "            \n",
    "        # check convergence\n",
    "        converge_val = sum( [sum((i-j)**2) for i,j in zip(mu,prev_mu)] )\n",
    "        if converge_val <= eps:\n",
    "            return mu, co_var, prob_c, post_prob,  t\n",
    "        else:\n",
    "             prev_mu = deepcopy(mu)\n",
    "\n",
    "def calc_post_pro(d, mu, co_var, prob_c): \n",
    "    post_prob = multivariate_normal.pdf(d, mu, co_var, allow_singular=True)*prob_c\n",
    "    return post_prob\n"
   ]
  },
  {
   "cell_type": "markdown",
   "id": "34d50713",
   "metadata": {},
   "source": [
    "## evaluation\n",
    "* Suppose there are 2 clusters to predict.Compare the center of predicted clusters and center of actual clusters. Then calculate the proportion of correct prediction. The error rate is $1-accuracy$. \n",
    "* If there are k ($k>2$) clusters to predict, map each cluster to acutal cluster based on the shortest Euclidean distance. Then k-cluster case is back to two-cluster case. Calcuate error rate as preivous step."
   ]
  },
  {
   "cell_type": "code",
   "execution_count": null,
   "id": "7fa46907",
   "metadata": {},
   "outputs": [],
   "source": [
    "def cal_error(data, label, post_prob, g_center, b_center, label_name):\n",
    "    n = len(data)\n",
    "    k = len(post_prob)\n",
    "    lb0, lb1 = label_name\n",
    "    post_prob = np.array(post_prob).T\n",
    "    # partition the data points to k-clusters\n",
    "    predict_label = [np.argmax(row) for row in post_prob]\n",
    "    # two clusters\n",
    "    if k == 2:\n",
    "        c0_index = [x == 0 for x in predict_label] \n",
    "        c0_center = np.mean(data[c0_index], 0)\n",
    "        dist_c0_g = sum( (c0_center-g_center)**2 )\n",
    "        dist_c0_b = sum( (c0_center-b_center)**2 )\n",
    "        # if the center of c0 is closer to \"good\"\n",
    "        if dist_c0_g < dist_c0_b: \n",
    "            predict_label = [lb0 if x == 0 else lb1 for x in predict_label  ]\n",
    "        else:\n",
    "            predict_label = [lb1 if x == 0 else lb0 for x in predict_label  ]\n",
    "    else:\n",
    "        for i in range(k):\n",
    "            ci_index = [x == i for x in predict_label]\n",
    "            ci_center= np.mean(data[ci_index], 0)\n",
    "            # map ci into (g-lb0) or (b-lb1)\n",
    "            dist_ci_g = sum( (ci_center-g_center)**2 )\n",
    "            dist_ci_b = sum( (ci_center-b_center)**2 )\n",
    "            if dist_ci_g < dist_ci_b:\n",
    "                predict_label = [lb0 if x == i else x for x in predict_label ]\n",
    "            else:\n",
    "                predict_label = [lb1 if x == i else x for x in predict_label ]\n",
    "\n",
    "    # number of correct prediction in each predicted cluster\n",
    "    p_g_count = sum([1 for x,y in zip(label, predict_label) if x == y and y == lb0])\n",
    "    p_b_count = sum([1 for x,y in zip(label, predict_label) if x == y and y == lb1])\n",
    "    error = 1 - (p_g_count+p_b_count)/n\n",
    "    return error"
   ]
  },
  {
   "cell_type": "code",
   "execution_count": null,
   "id": "02c7972a",
   "metadata": {},
   "outputs": [],
   "source": [
    "def find_cluster_true_center(data, label, label_name):\n",
    "    lb0, lb1 = label_name\n",
    "    g_ind = [True if x == lb0 else False for x in label]\n",
    "    b_ind = [True if x == lb1 else False for x in label]\n",
    "    c0 = data[g_ind]\n",
    "    c1 = data[b_ind]\n",
    "    return np.mean(c0, 0), np.mean(c1, 0)"
   ]
  },
  {
   "cell_type": "code",
   "execution_count": 14,
   "id": "3aee397e",
   "metadata": {},
   "outputs": [],
   "source": [
    "def main(data, label):\n",
    "    # rescale for ringnorm\n",
    "    label_name = list( set(label) )\n",
    "    g_center, b_center = find_cluster_true_center(data, label, label_name)\n",
    "    tot_error = [[]]\n",
    "    tot_ite = [[]]\n",
    "    for k_clst in range(2,6):\n",
    "        error = []\n",
    "        iteration = []\n",
    "        for nrun in range(20):\n",
    "            mu, co_var, prob_c, post_prob, ite = expecti_max( data, k_clst, eps=1e-3)\n",
    "            err = cal_error(data, label, post_prob, g_center, b_center, label_name)\n",
    "            error.append(err)\n",
    "            iteration.append(ite)\n",
    "        print('error in %s-cluster case is %.4f' %(k_clst, np.mean(error)) )\n",
    "        tot_ite.append(iteration)\n",
    "        tot_error.append(error)\n",
    "\n",
    "    # whisker plot\n",
    "    medianprops = dict(linestyle='-.', linewidth=2, color='black')\n",
    "    matplotlib.rcParams.update({'font.size': 12})\n",
    "    plt.figure(dpi=100)\n",
    "    plt.hold = True\n",
    "    plt.boxplot(tot_ite,vert=0, sym = 'o', patch_artist = True, medianprops=medianprops)\n",
    "    plt.xlabel('Iteration counts')\n",
    "    plt.ylabel('Number of clusters (k)')\n",
    "    plt.show()\n",
    "\n",
    "    plt.figure(dpi=100)\n",
    "    plt.hold = True\n",
    "    plt.boxplot(tot_error,vert=0, sym = 'o',patch_artist = True, boxprops = {'facecolor':'green'},  medianprops=medianprops)\n",
    "    plt.xlabel('Average error rate for 20 runs')\n",
    "    plt.ylabel('Number of clusters (k)')\n",
    "    plt.show()"
   ]
  },
  {
   "cell_type": "markdown",
   "id": "ba720e95",
   "metadata": {},
   "source": [
    "# Analysis of the EM over Real-world Data Sets"
   ]
  },
  {
   "cell_type": "markdown",
   "id": "8d8f02aa",
   "metadata": {},
   "source": [
    "* There are 34 attributes and 2 labels in dataset $\\textit ionosphere$. Run 20 times for k-cluster case, which starts from different $\\mu$ of prior. Record number of iterations and the error rateand. Plot them as a function of k.  \n",
    "* The number of iteration is around $10$ for each k. \n",
    "* The error is around $0.25$ for each k. "
   ]
  },
  {
   "cell_type": "code",
   "execution_count": 15,
   "id": "cb68ac90",
   "metadata": {},
   "outputs": [
    {
     "name": "stdout",
     "output_type": "stream",
     "text": [
      "error in 2-cluster case is 0.2660\n",
      "error in 3-cluster case is 0.2510\n",
      "error in 4-cluster case is 0.2556\n",
      "error in 5-cluster case is 0.2540\n"
     ]
    },
    {
     "data": {
      "image/png": "[encoded data removed]",
      "text/plain": [
       "<Figure size 600x400 with 1 Axes>"
      ]
     },
     "metadata": {
      "needs_background": "light"
     },
     "output_type": "display_data"
    },
    {
     "data": {
      "image/png": "[encoded data removed]",
      "text/plain": [
       "<Figure size 600x400 with 1 Axes>"
      ]
     },
     "metadata": {
      "needs_background": "light"
     },
     "output_type": "display_data"
    }
   ],
   "source": [
    "fileloc = r'ionosphere.data'\n",
    "data, label = parse_from_file(fileloc)\n",
    "main( data, label )"
   ]
  },
  {
   "cell_type": "markdown",
   "id": "b9d7ac28",
   "metadata": {},
   "source": [
    "* There are 20 attributes and 2 labels in dataset $\\textit ringnorm$. Run 20 times for k-cluster case, which starts from different $\\mu$ of prior. Record number of iterations and the error rateand. Plot them as a function of k. \n",
    "* A Z-score transformation is implement. Calculate the sample mean and sample variance. Then,\n",
    "<div align='center' > $x_i^{\\prime} = \\frac{x_i-\\mu_s}{\\sigma}$ </font></div>\n",
    "input $x_i^{\\prime}$ for update. The reason for transformation is to avoid extremely low probability due to the magnitude of data.\n",
    "* The number of iteration varies for k-cluster case. More iterations are required as $k$ increases.\n",
    "* The error is around $0.02$ for each k. "
   ]
  },
  {
   "cell_type": "code",
   "execution_count": 16,
   "id": "fc6343d4",
   "metadata": {},
   "outputs": [
    {
     "name": "stdout",
     "output_type": "stream",
     "text": [
      "error in 2-cluster case is 0.0230\n",
      "error in 3-cluster case is 0.0222\n",
      "error in 4-cluster case is 0.0223\n",
      "error in 5-cluster case is 0.0227\n"
     ]
    },
    {
     "data": {
      "image/png": "[encoded data removed]",
      "text/plain": [
       "<Figure size 600x400 with 1 Axes>"
      ]
     },
     "metadata": {
      "needs_background": "light"
     },
     "output_type": "display_data"
    },
    {
     "data": {
      "image/png": "[encoded data removed]",
      "text/plain": [
       "<Figure size 600x400 with 1 Axes>"
      ]
     },
     "metadata": {
      "needs_background": "light"
     },
     "output_type": "display_data"
    }
   ],
   "source": [
    "fileloc = r'ringnorm.data'\n",
    "data, label = parse_from_file(fileloc)\n",
    "\n",
    "# z-score\n",
    "mean_data = np.mean(data, 0)\n",
    "std_data = np.std(data, 0)\n",
    "data_normalized = (data-mean_data)/std_data\n",
    "main( data_normalized, label )"
   ]
  },
  {
   "cell_type": "markdown",
   "id": "7f2b0ee9",
   "metadata": {},
   "source": [
    "# Algorithm Design"
   ]
  },
  {
   "cell_type": "markdown",
   "id": "e382b263",
   "metadata": {},
   "source": [
    "## "
   ]
  },
  {
   "cell_type": "code",
   "execution_count": null,
   "id": "f2529165",
   "metadata": {},
   "outputs": [],
   "source": [
    "def binarySearch (arr, l, r, x):\n",
    "    if r >= l:\n",
    "        mid = l + (r - l) // 2\n",
    "        if arr[mid] == x:\n",
    "            return 1\n",
    "        elif arr[mid] > x:\n",
    "            return binarySearch(arr, l, mid-1, x)\n",
    "        else:\n",
    "            return binarySearch(arr, mid + 1, r, x)\n",
    "    else:\n",
    "        return 0"
   ]
  },
  {
   "cell_type": "markdown",
   "id": "869a4dbb",
   "metadata": {},
   "source": [
    "## "
   ]
  },
  {
   "cell_type": "code",
   "execution_count": null,
   "id": "7777e503",
   "metadata": {},
   "outputs": [],
   "source": [
    "def merge(arr, l, m, r):\n",
    "    n1 = m - l + 1\n",
    "    n2 = r - m\n",
    "\n",
    "\n",
    "    L = [0] * (n1)\n",
    "    R = [0] * (n2)\n",
    "\n",
    "\n",
    "    for i in range(0, n1):\n",
    "        L[i] = arr[l + i]\n",
    "\n",
    "    for j in range(0, n2):\n",
    "        R[j] = arr[m + 1 + j]\n",
    "\n",
    "    i = 0\n",
    "    j = 0\n",
    "    k = l\n",
    "\n",
    "    while i < n1 and j < n2:\n",
    "        if L[i] <= R[j]:\n",
    "            arr[k] = L[i]\n",
    "            i += 1\n",
    "        else:\n",
    "            arr[k] = R[j]\n",
    "            j += 1\n",
    "        k += 1\n",
    "\n",
    "\n",
    "    while i < n1:\n",
    "        arr[k] = L[i]\n",
    "        i += 1\n",
    "        k += 1\n",
    "\n",
    "    while j < n2:\n",
    "        arr[k] = R[j]\n",
    "        j += 1\n",
    "        k += 1"
   ]
  },
  {
   "cell_type": "markdown",
   "id": "d607ff94",
   "metadata": {},
   "source": [
    "## "
   ]
  },
  {
   "cell_type": "code",
   "execution_count": null,
   "id": "0ce20dce",
   "metadata": {},
   "outputs": [],
   "source": [
    "def mergeSort(arr, l, r):\n",
    "    if l < r:\n",
    "\n",
    "        m = l+(r-l)//2\n",
    "\n",
    "        mergeSort(arr, l, m)\n",
    "        mergeSort(arr, m+1, r)\n",
    "        merge(arr, l, m, r)\n",
    "\n",
    "def find_sum(x,y,z,t):\n",
    "    m = len(x)\n",
    "    xy_list = []\n",
    "    for ele_x in x:\n",
    "        for ele_y in y:\n",
    "            xy_list.append(ele_x + ele_y)\n",
    "    mergeSort(z,0,m-1)\n",
    "    for ele_xy in xy_list:\n",
    "        if binarySearch(z,0,m - 1,t - ele_xy):\n",
    "            return 1\n",
    "        else:\n",
    "            continue\n",
    "    return 0"
   ]
  }
 ],
 "metadata": {
  "kernelspec": {
   "display_name": "Python 3",
   "language": "python",
   "name": "python3"
  },
  "language_info": {
   "codemirror_mode": {
    "name": "ipython",
    "version": 3
   },
   "file_extension": ".py",
   "mimetype": "text/x-python",
   "name": "python",
   "nbconvert_exporter": "python",
   "pygments_lexer": "ipython3",
   "version": "3.8.8"
  },
  "toc": {
   "base_numbering": 1,
   "nav_menu": {},
   "number_sections": true,
   "sideBar": true,
   "skip_h1_title": false,
   "title_cell": "Table of Contents",
   "title_sidebar": "Contents",
   "toc_cell": false,
   "toc_position": {},
   "toc_section_display": true,
   "toc_window_display": false
  }
 },
 "nbformat": 4,
 "nbformat_minor": 5
}
