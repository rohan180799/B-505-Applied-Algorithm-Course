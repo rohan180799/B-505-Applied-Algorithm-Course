{
 "cells": [
  {
   "cell_type": "markdown",
   "metadata": {},
   "source": [
    "<pre>\n",
    "Name : Rohan Mehta\n",
    "Username : mehtaro\n",
    "Email id: mehtaro@iu.edu\n",
    "</pre>"
   ]
  },
  {
   "cell_type": "markdown",
   "metadata": {},
   "source": [
    "# Final exam programming problem\n",
    "\n",
    "In this problem, you will work on the following:\n",
    "\n",
    "- For a graph G, you will compute its MST\n",
    "- We will add an edge into the MST and you should be able to quickly update the MST\n",
    "\n",
    "To solve this problem, you may consult three lab sessions:\n",
    "\n",
    "- Merge sort (We will sort the edges using merge sort)\n",
    "- MST (Kruskal's algorithm)\n",
    "- DFS (To find a cycle on a graph)"
   ]
  },
  {
   "cell_type": "code",
   "execution_count": 257,
   "metadata": {},
   "outputs": [],
   "source": [
    "import random"
   ]
  },
  {
   "cell_type": "markdown",
   "metadata": {},
   "source": [
    "## Part 1\n",
    "\n",
    "You must work with the provided data structures.\n",
    "You may use your own data structures if they are not defined here."
   ]
  },
  {
   "cell_type": "code",
   "execution_count": 258,
   "metadata": {},
   "outputs": [],
   "source": [
    "# Define graph edge\n",
    "class Edge:\n",
    "    def __init__(self, node1, node2, weight=1.0):\n",
    "        self.node1 = node1\n",
    "        self.node2 = node2\n",
    "        self.weight = weight\n",
    "        \n",
    "    def __lt__(self, other):\n",
    "        selfPriority = self.weight\n",
    "        otherPriority = other.weight\n",
    "        return selfPriority < otherPriority"
   ]
  },
  {
   "cell_type": "code",
   "execution_count": 259,
   "metadata": {},
   "outputs": [],
   "source": [
    "# Define an undirected graph\n",
    "class UndirectedGraph:\n",
    "    def __init__(self, n):\n",
    "        self.num_nodes = n\n",
    "        self.nodes = [set() for i in range(n)]\n",
    "        self.edges = []\n",
    "    \n",
    "    # edge node1 <--> node2 (undirected)\n",
    "    def insert(self, node1, node2, weight=1.0):\n",
    "        self.nodes[node1].add(node2)\n",
    "        self.nodes[node2].add(node1)\n",
    "        self.edges.append(Edge(node1, node2, weight))\n",
    "        self.edges.append(Edge(node2, node1, weight))"
   ]
  },
  {
   "cell_type": "markdown",
   "metadata": {},
   "source": [
    "### Graph representation\n",
    "\n",
    "- Linked list: self.nodes in class UndirectedGraph (for DFS)\n",
    "- Edge list: self.edges in class UndirectedGraph (for MST)"
   ]
  },
  {
   "cell_type": "code",
   "execution_count": 260,
   "metadata": {},
   "outputs": [],
   "source": [
    "# A function to generate a random graph\n",
    "def generate_graph_and_output_edges(num_nodes, random_seed, num_edge_per_node=3):\n",
    "    random.seed(random_seed)\n",
    "    graph = UndirectedGraph(num_nodes)\n",
    "    edge_list = []\n",
    "    for i in range(num_nodes):\n",
    "        while len(graph.nodes[i]) < num_edge_per_node:\n",
    "            node = random.randint(0, num_nodes-1)\n",
    "            if node != i and (node not in graph.nodes[i]):\n",
    "                weight = random.random()\n",
    "                graph.insert(i, node, weight)\n",
    "    return graph  "
   ]
  },
  {
   "cell_type": "markdown",
   "metadata": {},
   "source": [
    "### A small sample graph\n",
    "\n",
    "This is a sample graph so you can learn how graph is represented in this problem"
   ]
  },
  {
   "cell_type": "code",
   "execution_count": 261,
   "metadata": {},
   "outputs": [
    {
     "name": "stdout",
     "output_type": "stream",
     "text": [
      "[{1, 2, 3}, {0, 3, 4}, {0, 3, 4}, {0, 1, 2}, {1, 2}]\n",
      " 0,  1, 0.45953\n",
      " 1,  0, 0.45953\n",
      " 0,  3, 0.73196\n",
      " 3,  0, 0.73196\n",
      " 1,  3, 0.50687\n",
      " 3,  1, 0.50687\n",
      " 2,  0, 0.53290\n",
      " 0,  2, 0.53290\n",
      " 2,  3, 0.26342\n",
      " 3,  2, 0.26342\n",
      " 4,  1, 0.33535\n",
      " 1,  4, 0.33535\n",
      " 4,  2, 0.83890\n",
      " 2,  4, 0.83890\n"
     ]
    }
   ],
   "source": [
    "# Generate the graph\n",
    "graph_sample = generate_graph_and_output_edges(5, 100, 2)\n",
    "\n",
    "# print nodes represented in linked list\n",
    "print(graph_sample.nodes)\n",
    "\n",
    "# print edges represented in edge list\n",
    "for e in graph_sample.edges:\n",
    "    print(\"{:2d}, {:2d}, {:.5f}\".format(e.node1, e.node2, e.weight))"
   ]
  },
  {
   "cell_type": "code",
   "execution_count": 262,
   "metadata": {},
   "outputs": [],
   "source": [
    "# Union Find data structure is provided to support Kruskal\n",
    "class UnionFind:\n",
    "    def __init__(self, num_nodes):\n",
    "        # Initially position[i] = i\n",
    "        self.position = [i for i in range(num_nodes)]\n",
    "        \n",
    "    # Return the cluster index\n",
    "    def find(self, node):\n",
    "        if self.position[node] == node:\n",
    "            return node\n",
    "        else:\n",
    "            self.position[node] = self.find(self.position[node])\n",
    "            return self.position[node]\n",
    "    \n",
    "    def union(self, node1, node2):\n",
    "        a = self.find(node1)\n",
    "        b = self.find(node2)\n",
    "        # no need to union\n",
    "        if a == b:\n",
    "            return\n",
    "        # union is needed\n",
    "        else:\n",
    "            if a < b:\n",
    "                self.position[b] = a\n",
    "            else:\n",
    "                self.position[a] = b"
   ]
  },
  {
   "cell_type": "markdown",
   "metadata": {},
   "source": [
    "## Part 2\n",
    "\n",
    "Find a MST for a given graph.\n",
    "\n",
    "The returned MST should be in edge list format. (Just like what we did in the lab)\n",
    "\n",
    "When sorting the graph.edges, you must use Merge Sort. (We used PriorityQueue in the lab)"
   ]
  },
  {
   "cell_type": "code",
   "execution_count": 263,
   "metadata": {},
   "outputs": [],
   "source": [
    "# Implement MergeSort\n",
    "\n",
    "# Your merge sort should returend a sorted list of A\n",
    "def merge(X, Y):\n",
    "    m = len(X)\n",
    "    n = len(Y)  \n",
    "    i = 0\n",
    "    j = 0\n",
    "    result = []\n",
    "    while(i < m and j < n):\n",
    "        if(X[i] < Y[j]):\n",
    "            result.append(X[i])\n",
    "            i = i + 1\n",
    "        else:\n",
    "            result.append(Y[j])\n",
    "            j = j + 1\n",
    "    if(i < m):\n",
    "        while(i < m):\n",
    "            result.append(X[i])\n",
    "            i = i+1\n",
    "    if(j < n):\n",
    "        while(j < n):\n",
    "            result.append(Y[j])\n",
    "            j = j + 1\n",
    "    return result\n",
    "                \n",
    "    \n",
    "def MergeSort(A):\n",
    "    num = len(A)\n",
    "    '''\n",
    "    \n",
    "    fill in the code\n",
    "    \n",
    "    '''\n",
    "    if(num == 1):\n",
    "        return A\n",
    "    mid = num // 2\n",
    "    left = MergeSort(A[:mid])\n",
    "    right = MergeSort(A[mid:])\n",
    "    return merge(left, right)"
   ]
  },
  {
   "cell_type": "code",
   "execution_count": 264,
   "metadata": {},
   "outputs": [],
   "source": [
    "# Implement Kruskal\n",
    "\n",
    "# returned MST is a list of class Edge\n",
    "def kruskal(graph):\n",
    "    MST = []\n",
    "    uf = UnionFind(graph.num_nodes)\n",
    "\n",
    "    sorted_edge_list = MergeSort(graph.edges)\n",
    "    '''\n",
    "    \n",
    "    fill in the code\n",
    "    \n",
    "    '''\n",
    "    size = graph.num_nodes - 1\n",
    "    while((len(MST)!=size) and (len(sorted_edge_list)>0)):\n",
    "        sorted_e = sorted_edge_list.pop(0)\n",
    "        s_node1 = sorted_e.node1\n",
    "        s_node2 = sorted_e.node2\n",
    "        uf_a = uf.find(uf.position[s_node1])\n",
    "        uf_b = uf.find(uf.position[s_node2])\n",
    "        if(uf_a != uf_b):\n",
    "            MST.append(sorted_e)\n",
    "            uf.union(uf_a, uf_b)\n",
    "    \n",
    "    return MST"
   ]
  },
  {
   "cell_type": "markdown",
   "metadata": {},
   "source": [
    "## Part 3\n",
    "\n",
    "A new edge (2, 19) with weight 0.2\n",
    "\n",
    "We need to quickly update the old MST to get a new MST"
   ]
  },
  {
   "cell_type": "code",
   "execution_count": 265,
   "metadata": {},
   "outputs": [],
   "source": [
    "# Construct a graph from edge list. This is given to you.\n",
    "\n",
    "# We assume num_nodes is given for simplicity.\n",
    "def generate_graph_from_edges(edge_list, num_nodes):\n",
    "    graph = UndirectedGraph(num_nodes)\n",
    "    for e in edge_list:\n",
    "        graph.insert(e.node1, e.node2, e.weight)\n",
    "    return graph"
   ]
  },
  {
   "cell_type": "markdown",
   "metadata": {},
   "source": [
    "### Algorithm\n",
    "\n",
    "- We add the new edge to the old MST which will generate a cycle\n",
    "\n",
    "- The cycle consists at least three edges\n",
    "\n",
    "- The edge with the largest weight should be removed\n",
    "\n",
    "- You ONLY need to print out the edges on the cycle to get full marks (the two end nodes and the weight)\n",
    "\n",
    "### Sample example\n",
    "\n",
    "- We have a MST for a graph of 3 nodes\n",
    "\n",
    "- MST has edge (0, 1, 0.12) and (0, 2, 0.23)\n",
    "\n",
    "- We add a new edge (1, 2, 0.2)\n",
    "\n",
    "- A cycle of three edges is generated\n",
    "\n",
    "- We need to delete edge (0, 2, 0.23)"
   ]
  },
  {
   "cell_type": "markdown",
   "metadata": {},
   "source": [
    "### How to use DFS to find the cycle\n",
    "\n",
    "- Suppose the new edge is (2, 19, 0.2)\n",
    "\n",
    "- If we DFS from node 2, we will eventurally hit node 19\n",
    "\n",
    "- You need to properly append and pop on \"cycle_edges\" during DFS \n",
    "\n",
    "- The \"cycle_edge\" should contain the final path from 2 to 19"
   ]
  },
  {
   "cell_type": "code",
   "execution_count": 266,
   "metadata": {},
   "outputs": [],
   "source": [
    "# Use DFS to detect the cycle\n",
    "\n",
    "# You may add more arguments in dfs_recursive() for your convenience\n",
    "\n",
    "def dfs(graph, starting_node, stopping_node):\n",
    "    visited_nodes = [False for i in range(graph.num_nodes)]\n",
    "    cycle_edges = []\n",
    "        \n",
    "    dfs_recursive(graph, starting_node, visited_nodes, cycle_edges, stopping_node)\n",
    "    new_cycle_edges = backtrack(cycle_edges,starting_node,stopping_node)\n",
    "    # The following is for demonstration purpose\n",
    "    print(\"We found {:d} edges from node {:d} to node {:d}\"\n",
    "          .format(len(new_cycle_edges), starting_node, stopping_node))\n",
    "    for e in new_cycle_edges:\n",
    "        '''\n",
    "        print the two end nodes of the edge\n",
    "            the weight information is not known so you do not need to output \n",
    "        \n",
    "        You may change the following print statement\n",
    "            if you did not use Edge class\n",
    "        '''\n",
    "        #print(\"{:2d}, {:2d}\".format(e.node1, e.node2))\n",
    "        print(\"{:2d}, {:2d}\".format(e[0], e[1]))\n",
    "\n",
    "\n",
    "def dfs_recursive(graph, starting_node, visited_nodes, cycle_edges, stopping_node):\n",
    "    \n",
    "    if(starting_node == stopping_node):\n",
    "        return\n",
    "    visited_nodes[starting_node] = True\n",
    "    if(len(graph.nodes[starting_node]) > 0):\n",
    "        for i in graph.nodes[starting_node]:\n",
    "            if(visited_nodes[i] == False):\n",
    "                cycle_edges.append((starting_node,i))\n",
    "                dfs_recursive(graph,i,visited_nodes,cycle_edges,stopping_node)"
   ]
  },
  {
   "cell_type": "code",
   "execution_count": 267,
   "metadata": {},
   "outputs": [],
   "source": [
    "def backtrack(A,start,stop):\n",
    "    backtrack = []\n",
    "    for i in range(len(A)):\n",
    "        if(A[i][1] == stop):\n",
    "            initial = A[i]\n",
    "        \n",
    "    backtrack.append(initial)\n",
    "    num = len(A)-2\n",
    "    while(num >= 0):\n",
    "            \n",
    "        if(A[num][1] == initial[0]):\n",
    "            initial = A[num]\n",
    "            backtrack.append(initial)\n",
    "            num = num-1\n",
    "        else:\n",
    "            num = num-1\n",
    "    backtrack.reverse()\n",
    "    return backtrack\n",
    "            "
   ]
  },
  {
   "cell_type": "markdown",
   "metadata": {},
   "source": [
    "## Part 4 Test code\n",
    "\n",
    "Do NOT modify the code in this part.\n"
   ]
  },
  {
   "cell_type": "code",
   "execution_count": 268,
   "metadata": {},
   "outputs": [
    {
     "name": "stdout",
     "output_type": "stream",
     "text": [
      "18,  3, 0.00406\n",
      " 1,  5, 0.03175\n",
      "18,  0, 0.03259\n",
      " 5,  0, 0.03440\n",
      "11,  1, 0.04456\n",
      " 2, 18, 0.05057\n",
      "15, 13, 0.06277\n",
      "15,  4, 0.06499\n",
      " 7, 11, 0.07993\n",
      " 4, 19, 0.10876\n",
      " 8,  9, 0.14351\n",
      "16,  5, 0.15642\n",
      " 9, 10, 0.16494\n",
      "14,  7, 0.16636\n",
      "16,  9, 0.17846\n",
      " 4,  3, 0.19495\n",
      " 4,  6, 0.38442\n",
      " 5, 12, 0.39059\n",
      " 0, 17, 0.43858\n"
     ]
    }
   ],
   "source": [
    "graph_mst = generate_graph_and_output_edges(20, 10, 5)\n",
    "MST = kruskal(graph_mst)\n",
    "\n",
    "for e in MST:\n",
    "    print(\"{:2d}, {:2d}, {:.5f}\".format(e.node1, e.node2, e.weight))"
   ]
  },
  {
   "cell_type": "code",
   "execution_count": 269,
   "metadata": {},
   "outputs": [],
   "source": [
    "def find_the_cycle(MST, new_edge, num_nodes):\n",
    "    # construct graph from edge list\n",
    "    graph_cycle = generate_graph_from_edges(MST, num_nodes)\n",
    "\n",
    "    # call dfs to find a path from node1 to node2\n",
    "    dfs(graph_cycle, new_edge.node1, new_edge.node2)"
   ]
  },
  {
   "cell_type": "code",
   "execution_count": 270,
   "metadata": {},
   "outputs": [
    {
     "name": "stdout",
     "output_type": "stream",
     "text": [
      "We found 4 edges from node 2 to node 19\n",
      " 2, 18\n",
      "18,  3\n",
      " 3,  4\n",
      " 4, 19\n"
     ]
    }
   ],
   "source": [
    "find_the_cycle(MST, Edge(2, 19, 0.2), 20)"
   ]
  },
  {
   "cell_type": "code",
   "execution_count": 271,
   "metadata": {},
   "outputs": [
    {
     "name": "stdout",
     "output_type": "stream",
     "text": [
      "We found 7 edges from node 3 to node 14\n",
      " 3, 18\n",
      "18,  0\n",
      " 0,  5\n",
      " 5,  1\n",
      " 1, 11\n",
      "11,  7\n",
      " 7, 14\n"
     ]
    }
   ],
   "source": [
    "# Instead we can add edge (3, 14, 0.1)\n",
    "find_the_cycle(MST, Edge(3, 14, 0.1), 20)"
   ]
  },
  {
   "cell_type": "markdown",
   "metadata": {},
   "source": [
    "### Hint\n",
    "\n",
    "If you run the following codes,"
   ]
  },
  {
   "cell_type": "code",
   "execution_count": 272,
   "metadata": {},
   "outputs": [
    {
     "name": "stdout",
     "output_type": "stream",
     "text": [
      "The minimum spanning tree:\n",
      " 8,  6, 0.00920\n",
      " 0,  5, 0.02232\n",
      " 1,  0, 0.25507\n",
      " 6,  3, 0.43277\n",
      " 1,  3, 0.48786\n",
      " 0,  9, 0.52763\n",
      " 2,  0, 0.56920\n",
      " 3,  4, 0.59115\n",
      " 7,  2, 0.65159\n",
      "We found 3 edges from node 1 to node 8\n",
      " 1,  3\n",
      " 3,  6\n",
      " 6,  8\n"
     ]
    }
   ],
   "source": [
    "graph_hint = generate_graph_and_output_edges(10, 1, 2)\n",
    "\n",
    "mst = kruskal(graph_hint)\n",
    "\n",
    "print(\"The minimum spanning tree:\")\n",
    "for e in mst:\n",
    "    print(\"{:2d}, {:2d}, {:.5f}\".format(e.node1, e.node2, e.weight))\n",
    "\n",
    "find_the_cycle(mst, Edge(1, 8, 0.2), 10)"
   ]
  },
  {
   "cell_type": "code",
   "execution_count": 273,
   "metadata": {},
   "outputs": [
    {
     "name": "stdout",
     "output_type": "stream",
     "text": [
      "\n"
     ]
    }
   ],
   "source": [
    "# this is the results you should get:\n",
    "'''\n",
    "The minimum spanning tree:\n",
    " 8,  6, 0.00920\n",
    " 0,  5, 0.02232\n",
    " 1,  0, 0.25507\n",
    " 6,  3, 0.43277\n",
    " 1,  3, 0.48786\n",
    " 0,  9, 0.52763\n",
    " 2,  0, 0.56920\n",
    " 3,  4, 0.59115\n",
    " 7,  2, 0.65159\n",
    "We found 3 edges from node 1 to node 8\n",
    " 1,  3\n",
    " 3,  6\n",
    " 6,  8\n",
    "'''\n",
    "print()"
   ]
  },
  {
   "cell_type": "markdown",
   "metadata": {},
   "source": [
    "## Programming Problem 2\n",
    "A modified knapsack problem is that for a given set of positive integers {a1, a2, ..., an}, a knap- sack of size s, find a subset A of {a1, a2, ..., an} such that the sum of elements in A is the largest, but at most s. Write a program using Python to solve this problem using a top down dynamic programming method.\n",
    "Test your program for the following modified knapsack problem:\n",
    "Input list: {5, 23, 27, 37, 48, 51, 63, 67, 71, 75, 70, 83, 889, 91, 101, 112, 121, 132, 137, 141, 143, 147, 153, 159, 171, 181, 190, 191} with knapsack size s = 762. Print out a subset along with the sum of its elements so that the sum has the closest distance to 762."
   ]
  },
  {
   "cell_type": "code",
   "execution_count": 274,
   "metadata": {},
   "outputs": [
    {
     "name": "stdout",
     "output_type": "stream",
     "text": [
      "The subset is: [101, 91, 83, 70, 75, 71, 67, 63, 51, 48, 37, 5]\n",
      "The sum of off the elements in the subset is: 762\n"
     ]
    }
   ],
   "source": [
    "def knapsack(A,s):\n",
    "    result = []\n",
    "    comp = [[0 for i in range(s + 1)] for j in range(len(A) + 1)]\n",
    "    \n",
    "    for i in range(len(A)+1):\n",
    "        for j in range(s+1):\n",
    "            if(i == 0 or j == 0):\n",
    "                comp[i][j] = 0\n",
    "            elif(A[i-1] <= j):\n",
    "                comp[i][j] = max(A[i-1]+comp[i-1][j-A[i-1]],comp[i-1][j])\n",
    "            else:\n",
    "                comp[i][j] = comp[i-1][j]\n",
    "                \n",
    "    chain = comp[i][j]\n",
    "    size = len(comp)-1\n",
    "    while size >= 0:\n",
    "        num = size\n",
    "        if(chain in comp[size]):\n",
    "            while num >= 0:\n",
    "                if(chain in comp[num]):\n",
    "                    num = num - 1\n",
    "                else:\n",
    "                    size = num + 1\n",
    "                    break\n",
    "            \n",
    "            key = size - 1\n",
    "            chain = chain - A[key]\n",
    "            result.append(A[key])\n",
    "            size = size - 1\n",
    "        else:\n",
    "            size = size - 1\n",
    "    result.pop(len(result) - 1)\n",
    "    print (\"The subset is:\", result)\n",
    "    print(\"The sum of off the elements in the subset is:\", comp[i][j])\n",
    "    return result\n",
    "\n",
    "\n",
    "if __name__ == \"__main__\":\n",
    "    A =  [5, 23, 27, 37, 48, 51, 63, 67, 71, 75, 70, 83, 889, 91, 101, 112, \n",
    "          121, 132, 137, 141, 143, 147, 153, 159, 171, 181, 190, 191]\n",
    "    s = 762\n",
    "    knapsack(A, s)"
   ]
  },
  {
   "cell_type": "markdown",
   "metadata": {},
   "source": [
    "# Multiple Choice Questions"
   ]
  },
  {
   "cell_type": "markdown",
   "metadata": {},
   "source": [
    "### Problem 1.1 \n",
    "#### Consider an undirected graph G = (V, E) with edge costs that are all positive and distinct. Let T be a minimum spanning tree for graph G. Let P be a shortest path from s to t, where s, t ∈ V. Which of the following statements is correct?"
   ]
  },
  {
   "cell_type": "markdown",
   "metadata": {},
   "source": [
    "### Ans. (A) Suppose each edge weight is increased by 1, the minimum spanning tree T will not change"
   ]
  },
  {
   "cell_type": "markdown",
   "metadata": {},
   "source": [
    "### Problem 1.2 \n",
    "#### Which of the following statements about a tree of n nodes is wrong?"
   ]
  },
  {
   "cell_type": "markdown",
   "metadata": {},
   "source": [
    "### Ans. (B) Removing the root node is the only way to disconnect the tree"
   ]
  },
  {
   "cell_type": "markdown",
   "metadata": {},
   "source": [
    "### Problem 1.3 \n",
    "#### Which of the following statements about a Binary Search Tree with distinct n elements is wrong?"
   ]
  },
  {
   "cell_type": "markdown",
   "metadata": {},
   "source": [
    "### Ans. (B) The smallest element is always at the leaf of the tree"
   ]
  },
  {
   "cell_type": "markdown",
   "metadata": {},
   "source": [
    "### Problem 1.4\n",
    "#### The algorithm in concern has a time complexity of O(n2). The algorithm takes 40 seconds to run with input size 10. How much time it will require to run with input size 30?"
   ]
  },
  {
   "cell_type": "markdown",
   "metadata": {},
   "source": [
    "### Ans. (D) 6 minutes"
   ]
  },
  {
   "cell_type": "markdown",
   "metadata": {},
   "source": [
    "### Problem 1.5 \n",
    "#### Consider the following unsorted array of strings, R = {cat, him, ham, bat}. What will be the order of elements of R after the first iteration of LSD Radix sort if we want to sort the array in an ascending order?"
   ]
  },
  {
   "cell_type": "markdown",
   "metadata": {},
   "source": [
    "### Ans. (B) {him, ham, cat, bat}"
   ]
  },
  {
   "cell_type": "markdown",
   "metadata": {},
   "source": [
    "### Problem 1.6 \n",
    "#### Using Brute-Force pattern matching algorithm, which pattern below will give you the fastest match with the given string “abacaabaccabacabaabb\"?"
   ]
  },
  {
   "cell_type": "markdown",
   "metadata": {},
   "source": [
    "### Ans. (D) bacca"
   ]
  },
  {
   "cell_type": "markdown",
   "metadata": {},
   "source": [
    "# Non-multi Choice Questions"
   ]
  },
  {
   "cell_type": "markdown",
   "metadata": {},
   "source": [
    "## Problem 2\n",
    "### Let G = (V, E) be a connected directed graph with non-negative edge weights. Let s and t be vertices of G. We delete c (not a constant number) edges in G to get a subgraph H. Suppose we want to add back exactly one deleted edge into H, so that the shortest path from s to t in the resulting graph is as short as possible.\n",
    "### Describe an algorithm that chooses the best edge to reinsert. Your algorithm should run in O(m log n) time in which m is the number of edges and n is the number of vertices in G.\n",
    "#### Hint 1: Dijkstra’s algorithm runs in O(m log n) time on graph G.\n",
    "#### Hint 2: Number of deleted edges c is not a constant number, so running Dijkstra’s algorithm c times will result in O(c m log n) running time."
   ]
  },
  {
   "cell_type": "markdown",
   "metadata": {},
   "source": [
    "### Ans)\n",
    "<pre>\n",
    "It looks that Dijkstra's algorithm approach will be necessary, based on the question and the suggestions that have been \n",
    "provided. We are unable to perform Dijkstra's for all edges that have been deleted from the graph G and then \n",
    "choose the one that provides the shortest path since this would need \"c\" Dijkstra's iterations. \n",
    " \n",
    "There is one approach that can be taken into consideration.\n",
    "\n",
    "Instead of offering the shortest path between specific nodes \"a\" and \"b,\" we modify Dijkstra's approach such that \n",
    "it returns the shortest paths between all nodes except \"a\".\n",
    "  \n",
    "Now we run Dijkstra's twice for each \"s\" and \"t\". Assuming that \"s\" is the source and that Forward(x<sub>i</sub>) is the shortest path to node x<sub>i</sub>.\n",
    "\n",
    "We then repeat Dijkstra's algorithm with \"t\" as the source and all edges reversed, and the shortest path to node y<sub>i</sub> is referred to as Backward(y<sub>i</sub>).\n",
    "\n",
    "Now, we remove \"c\" edges from graph G, which are C ={(x<sub>1</sub>, y<sub>1</sub>), (x<sub>2</sub>,y<sub>2</sub>),\n",
    "...(x<sub>c</sub>,y<sub>c</sub>)}.  \n",
    "\n",
    "We look for an \"i\" such that the sum of Forward(x<sub>i</sub>) + edge(x<sub>i</sub>, y<sub>i</sub>) + Backward(y<sub>i</sub>) is  minimum, where x<sub>i</sub>, y<sub>i</sub> belongs to C. The edges x<sub>i</sub>, y<sub>i</sub> are the best edges to reinsert in this case. \n",
    "\n",
    "The algorithm has a runtime of (2mlogn + c + m), which is asymptotically O(mlogn). The following components are described in further detail: 2mlogn -> Two iterations of Dijkstra's algorithm in its variant form.\n",
    "We have taken: \n",
    "c -> Trying out all of the edges that have been removed to see which ones work best to put back in\n",
    "m -> To reverse all edges, it will be required to calculate Backward.\n",
    "</pre>\n"
   ]
  },
  {
   "cell_type": "markdown",
   "metadata": {},
   "source": [
    "## Problem 3\n",
    "### Let G = (V, E) be a connected undirected graph with m edges and n nodes. If we remove a node v from G, we get a subgraph Gv. Given a graph G and a node v, how can you know if subgraph Gv is connected or not? Please describe a O(m + n) algorithm to decide the connectivity of Gv ."
   ]
  },
  {
   "cell_type": "markdown",
   "metadata": {},
   "source": [
    "### Ans)\n",
    "<pre>\n",
    "Starting at any node in the subgraph and applying DFS or BFS while retaining the visited node \n",
    "will allow us to determine whether or not the subgraph is connected. If the total number of nodes \n",
    "is equal to the total number of nodes that have been visited, then the graph is said to be linked. \n",
    "Furthermore, the worst-case complexity is O(m+n) because it is either BFS or DFS, indicating that it is O(m+n).\n",
    "\n",
    "-> Algorithm is as follows:\n",
    "\n",
    "1. add edges and creat undirected graph:\n",
    "dict = {} to store the graph\n",
    "def addedge(a,b): # for adding the new node which was not in the graph before\n",
    "\n",
    "    if new_element not in dict:\n",
    "        dict[a] = []\n",
    "    add b to dict[a]\n",
    "  \n",
    "2. Apply dfs function :\n",
    "create a list for visited nodes\n",
    "    visited = []  # keeps track of all the visited nodes\n",
    "    \n",
    "    def dfs(x): \n",
    "        visited[x] = true # if the node is in the dictionary it will make the bollean value true for the node\n",
    "        \n",
    "        for i in dict[x]: # i will be the next connected node from the current node\n",
    "        \n",
    "            if i in visited[]:\n",
    "                i++ \n",
    "                \n",
    "            else: \n",
    "                dfs(i) # call the function recursively and make the boolean value True for the nodes\n",
    "\n",
    "3. Check the visited nodes :\n",
    "\n",
    "    if visited[x] is false: # checking if all the nodes are present in visited list(having True value)\n",
    "        Not Connected\n",
    "        \n",
    "    else:\n",
    "        Connected\n",
    "</pre>"
   ]
  },
  {
   "cell_type": "markdown",
   "metadata": {},
   "source": [
    "## Problem 4\n",
    "### A long string (10,000 characters) consists of four characters: A, T, G, C; they appear with frequency 1/2, 1/4, 1/8 and 1/8, respectively.\n",
    "#### (a) What is the Huffman encoding for each character in the alphabet? Draw the Huffman encoding tree for each step of the algorithm. The final Huffman encoding tree should look like the following tree. You may draw by hand and upload a picture.\n",
    "#### (b) Originally each character is represented in two bits. How many bits are saved if we use the new encoding scheme we obtained in the previous question?"
   ]
  },
  {
   "cell_type": "markdown",
   "metadata": {},
   "source": [
    "### Ans)\n",
    "(A)\n",
    "<pre>\n",
    "\n",
    "----------------------- <br>\n",
    "|Letter     |Frequency| <br>\n",
    "| A         | 1/2     | <br>\n",
    "| T         | 1/4     | <br>\n",
    "| G         | 1/8     | <br>\n",
    "| C         | 1/8     | <br>\n",
    "\n",
    "----------------------- <br>\n",
    "<br>\n",
    "\n",
    "Step 1: Adding the two alphabets with lowest frequency, i.e. G & C in our case with 1/8 frequency.\n",
    "\n",
    "                                           1/4\n",
    "                                          /   \\\n",
    "                                         0     1\n",
    "                                        /       \\\n",
    "                                       G         C \n",
    "                                      1/8       1/8 \n",
    " \n",
    " Step 2: Adding the alphabet T with the 2nd lowest frequency, in our case with 1/4 frequency.\n",
    "\n",
    "                                         1/2\n",
    "                                         /  \\\n",
    "                                        /    1\n",
    "                                       /      \\\n",
    "                                      0       1/4\n",
    "                                     /       /   \\\n",
    "                                    /       0     1\n",
    "                                   /       /       \\\n",
    "                                  T       G         C \n",
    "                                 1/4     1/8       1/8 \n",
    "\n",
    "Step 3: Adding the alphabet A with the highest frequency, i.e. in our case with 1/2 frequency.\n",
    "\n",
    "                                          1   \n",
    "                                         / \\ \n",
    "                                        /   1 \n",
    "                                       /     \\\n",
    "                                      /     1/2\n",
    "                                     /      /  \\\n",
    "                                    0      /    1\n",
    "                                   /      /      \\\n",
    "                                  /      0       1/4\n",
    "                                 /      /       /   \\\n",
    "                                /      /       0     1\n",
    "                               /      /       /       \\\n",
    "                              A      T       G         C \n",
    "                             1/2    1/4     1/8       1/8 \n",
    "                           \n",
    "As mention in Huffman encoding we have labelled all the left nodes with 0 and all the right nodes with 1. \n",
    "Finally, the result is : A = 0, T = 10, G = 110, C = 111.\n",
    "     \n",
    "You can see the huffmans tree we were intended to create in the image above. The tree was included in the exam's pdf file. As tiny as feasible while being conveyed, the primary purpose of the huffmans encoding algorithm is to keep a message's bit count low. 1/2, 1/4, 1/8, and 1/8 of the 10000 characters in the lengthy string are utilized. Each letter in the alphabet has four bit codes: A, T, G, and C. The numbers are 0, 10, 110, and 111. The bit count will be 5000, 5000, 3750, 3750 respectively, it'll contain 17500 bits in total. To this list will be added the ASCII character count of 8 and a coding extension of 9 bits. After that, the code will be 17-bit long. Bits have been exchanged at a rate of 17517 per second. In total, 17517 bits are sent.\n",
    "\n",
    "(B) Without using Huffmans encoding , the total bits transferred will be 10000*2 that will be 20000 bits in this transmission. By the usage of Huffmans encoding we save approximately 2483 bits. \n",
    "</pre>"
   ]
  },
  {
   "cell_type": "markdown",
   "metadata": {},
   "source": [
    "## Problem 5\n",
    "### Let G = (V,E) be a undirected graph with m edges and n nodes; and let T = (V,E′) be its minimum spanning tree. All edge weights are distinct. Assume we remove an edge (u, v) ∈ E′ from graph G. Describe an algorithm to update the minimum spanning tree in O(m) time.\n",
    "#### 1. Hint 1: The removal of edge (u, v) disconnects the spanning tree T in to two set of nodes A and B. Without a loss of generality, we may assume u ∈ A and v ∈ B.\n",
    "#### 2. Hint 2: We need to find the smallest weight edge whose one end node in A and the other end node in B.\n",
    "#### 3. Hint 3: In order to get full marks, you need to state clearly what algorithm you use to find set A and B; what data structure you use to efficiently look up for target edge; and what are the running time of each portion of your algorithm."
   ]
  },
  {
   "cell_type": "markdown",
   "metadata": {},
   "source": [
    "### Ans)\n",
    "<pre>\n",
    "Let us assume we have a Graph G. T is the MSP of that Graph G. Since T is the MST, we know that all minimum weight edges are used in the MST. \n",
    "Let us remove an edge (u,v) which belongs to T (our MSP). We need to find a new edge (u',v') such that it builds our new MSP.\n",
    "Assume that whenever we mention an edge, we are storing the values u, v, and w.\n",
    "By already knowing that removal of the edge disconnects our T. Let the two Graphs formed be D1 and D2.\n",
    "The first step is to create two HashSets S1 and S2 which stores vertices of the 2 disconnected graphs D1 and D2.  (Set in python)\n",
    "We're constructing two hashSets to make it easier to identify a vertex in each graph, rather than having to loop over each graph to get the vertices.\n",
    "The following step is to establish a MinHeap M, which will store all of the edges of G in a single location (our original graph which does not contain the deleted edge).\n",
    "To do this task, we just need to pop edges from our MinHeap M and determine whether or not the edge contains one vertex from D1 and the other vertex from D2.\n",
    "Because we are popping elements from MinHeap M, we are certain to discover the edges with the lowest weight, and the first edge that links D1 and D2 will replace the edge that was removed, resulting in the formation of our new MST.\n",
    "\n",
    "The time complexity of the Algo is O(m) where m = number of edges. We loop through all the edges and store them in MinHeap M.\n",
    "Popping elements from MinHeap takes O(1) time and checking vertices of popped edge takes O(1) time since we are using HashSets.\n",
    "</pre>"
   ]
  },
  {
   "cell_type": "markdown",
   "metadata": {},
   "source": [
    "## Problem 6\n",
    "### We would like to solve word search puzzle problem in which we are given a N by N character board and N words. In the word search puzzle, the N words may be placed horizontally, vertically, or diagonally in the world puzzle board. Your task is to find all the N words. \n",
    "### If you are not familiar with word search puzzle, please refer to https://thewordsearch. com for more details. \n",
    "### Please describe a O(N^3) algorithm to solve this problem. You need to specify what data structure you use and what are the time complexity at each step."
   ]
  },
  {
   "cell_type": "markdown",
   "metadata": {},
   "source": [
    "### Ans)\n",
    "<pre>\n",
    "Due to the fact that the subject includes matching words, the Trie data structure is an excellent choice for this task. It is possible to verify whether a given prefix matches the prefix of any of the words recorded in the Trie data structure using an upgraded Trie data structure.\n",
    "Algorithm:  \n",
    "1. Fill all the N words in a Trie.\n",
    "2. To begin with, apply DFS search at every possible location on the board.\n",
    "   1. Continue DFS search if only for as long as there is prefix match in the Trie.\n",
    "   2. Store locations of found words in case of complete word match.\n",
    "   3. Stop DFS search if there is no prefix match.\n",
    "Assume \"n\" is the average length of N words.  \n",
    "Runtime analysis: DFS for a given location takes 8<sup>n</sup> time. We do DFS on the entire board, so N<sup>2</sup>8<sup>n</sup>. Do this for all the N words, N<sup>3</sup>8<sup>n</sup>. If \"n\" is very small compared to N and 8<sup>n</sup> can be assumed to be a constant. This is O(N<sup>3</sup>).  \n",
    "So the algorithm is O(N<sup>3</sup>), based on the assumption above.\n",
    "</pre>"
   ]
  },
  {
   "cell_type": "markdown",
   "metadata": {},
   "source": [
    "## Problem 7\n",
    "### What is the time complexity of the function calc in big-Oh? What is the return value k in terms of big-Oh notion? For full credit please show your work step by step.\n",
    "<pre>\n",
    "def calc(n): \n",
    "    k=0\n",
    "    i = n/2 \n",
    "    while(i<=n):\n",
    "        i=i+1 \n",
    "        j=2 \n",
    "        while(j<=n):\n",
    "            j=j*2\n",
    "            k = k + n/2\n",
    "    return k\n",
    "</pre>"
   ]
  },
  {
   "cell_type": "markdown",
   "metadata": {},
   "source": [
    "### Ans) \n",
    "<pre>\n",
    "Due to the fact that the initial glance takes N/2 time, which is linear in time, the prior strategy requires O(N) iterations to complete the first loop before moving on to the next. The second loop iterates over and over again, exponentially repeating the first. It takes N/2logn times for the process to be completed since the value of k increases by N/2 with each iteration. To put it another way, the complete procedure has a temporal complexity of O(N*log(N)).\n",
    "</pre>"
   ]
  },
  {
   "cell_type": "markdown",
   "metadata": {},
   "source": [
    "## Problem 8\n",
    "### What are the advantages of QuickSort over MergeSort? If we want to sort a linked list of elements, which one between them should we choose? Please explain your answer."
   ]
  },
  {
   "cell_type": "markdown",
   "metadata": {},
   "source": [
    "### Ans) \n",
    "### Advantages of Quicksort over MergeSort: \n",
    "- You don't have to partition the array of components into equal halves before you start sorting. There is no limit to the number of equal portions that the array can be split into during quick sort. \n",
    "- Quick sorting is advantageous because it does not necessitate a lot of extra space because quicksort uses main memory, whereas merge sort requires extra memory(auxiliary memory) to perform the same task. \n",
    "- Quicksort outruns Mergesort in terms of speed because the results of quicksort are relatively close to each other in the cache, so it is much faster than merge sort.\n",
    "- Quick sort is more efficient and faster than merge sort when working with tiny arrays or datasets in terms of both time and money. \n",
    "- When it comes to memory regions that can be used repeatedly, Quick sort outperforms Merge sort. \n",
    "- Locality of reference, i.e. a processor's proclivity to repeatedly access the same memory regions in a short amount of time is good when using quicksort unlike mergesort. \n",
    "### For sorting a linked list of elements Merge sort should be used over Quick sort for the following reasons:\n",
    "- It runs in O(nlogn) time even in the worst case,on the contrary quick sort runs in O(n2) in worst case. \n",
    "- It's stable and Quick sort is not\n",
    "- It doesn't need a lot of extra memory, de-facto it uses a constant amount of auxilary memory while computing linked list and quicksorts in-place memory usage doesn't count as an advantage for this case.\n",
    "- As a result, merge sort performs more \"short range\" operations on the data, making it a better match for linked lists, whereas quicksort is a better fit for random access data structures (such as hash tables)."
   ]
  },
  {
   "cell_type": "markdown",
   "metadata": {},
   "source": [
    "## Problem 9\n",
    "### Consider a pattern matching problem with string s = “GCATGACTGCGTGACC\" and pattern p= “CTGC\". Using the Boyer-Moore algorithm find the lowest index i within s at which the matched (with p) substring begins. Follow the simplified Boyer-Moore algorithm step by step to find the value of i as well as demonstrate how many comparisons are made."
   ]
  },
  {
   "cell_type": "markdown",
   "metadata": {},
   "source": [
    "### Ans)\n",
    "<pre>\n",
    "We are given the following string, s = “GCATGACTGCGTGACC\" \n",
    "and we have to find the pattern, p= “CTGC\" from the given string s. \n",
    "We are supposed to use boyer-moore algorithm to find the pattern.\n",
    "\n",
    "\n",
    "    | Bad Character Table |   |   |       |\n",
    "    |---------------------|---|---|-------|\n",
    "    | C                   | T | G | other |\n",
    "    | 0                   | 2 | 1 | 4     |\n",
    "    \n",
    "    \n",
    "By using the bad character table in boyer-moore algorithm, we will do the following steps:\n",
    "\n",
    "GCATGACTGCGTGACC\n",
    "CTGC\n",
    "GCATGACTGCGTGACC\n",
    "-----CTGC\n",
    "GCATGACTGCGTGACC\n",
    "----------CTGC\n",
    "\n",
    "As a first stage, we are looking for a pattern in the string by going from right to left, i.e. starting with index 3. Due to the fact that it cannot detect any matching characters, it will go to the matching index, which is the index 6th. Following the discovery of the matching letter C, it will proceed to examine the other character G in the string. As the character A does not appear in the pattern, the pattern will skip the entire character until after A. Following that, it will go to the 9th index, where it will look for the pattern in the string. A total of three steps were required to locate the string in Boyer Moore's bad character method.\n",
    "\n",
    "Using the good suffix method in boyer moore we will do the following steps:\n",
    "\n",
    "GCATGACTGCGTGACC\n",
    "CTGC\n",
    "t = _\n",
    "\n",
    "GCATGACTGCGTGACC\n",
    "-----CTGC\n",
    "t = C\n",
    "\n",
    "GCATGACTGCGTGACC\n",
    "----------CTGC\n",
    "t = CTGC\n",
    "\n",
    "As the good suffix method works same as the bad suffix method in the following example it can be skipped due to the equivalent effeciency.\n",
    "</pre>"
   ]
  },
  {
   "cell_type": "markdown",
   "metadata": {},
   "source": [
    "## Problem 10\n",
    "### Consider an array of n positive integers, A = {a1, a2, ..., an} and a positive integer m. Using a top down dynamic programming method, design an algorithms that answers us if some subset of A add up to m where you can use each an atmost once.\n",
    "### For example, a list of 5 positive integers A = {3, 7, 11, 15, 21} and the given integer m = 25. Your designed problem will answer True as a subset of A, {3, 7, 15}, sums to the given value of m.\n",
    "### Prove the correctness of your algorithm and show the computation time with regards to big-Oh notion."
   ]
  },
  {
   "cell_type": "markdown",
   "metadata": {},
   "source": [
    "### Ans) \n",
    "<pre> In my view that HashMap is the most efficient method of solving this problem since it allows us to store both \n",
    "the current total and its count. One efficient method of traversing the array is to save the total sum up to this point in a variable called current sum. In addition, we count the number of different current sum values that exist in a map. At every point in time, if the current sum meets the required sum (in our example, m), the count of subarrays is increased by 1. When current sum – sum is employed, the value of current sum surpasses the value of the intended sum. It is possible to obtain the required sum by subtracting this number from the existing sum.\n",
    "The map allows us to count the number of subarrays that have a sum that is the same as the current sum minus the \n",
    "current sum. In order to construct new subarrays with the needed total, all of the subarrays in the present\n",
    "subarray must be removed from it. As a result, increase the number of such subarrays by the number of such \n",
    "subarrays. As soon as the current total meets the needed sum, count the number of subarrays that had a prior \n",
    "value of zero. Subarrays with the requisite total number of elements are formed when such subarrays are removed\n",
    "from a current subarray.\n",
    "\n",
    "<b>Algorithm </b>\n",
    "\n",
    "\n",
    "def sumsubarray(array, m, n): # here m = the given integer, array is the dataset of integers, \n",
    "                                and n is the length of array \n",
    "    prefixsum = dict() # using this dictionary as a hashmap for storing all the different sum \n",
    "                        values from index 0 of the array while traversing through each element \n",
    "    current_sum = 0 # total sum of elements so far \n",
    "    totalnum = 0 # count of number of subarrays in the array whose sum is equal to k \n",
    "    for i in range(0,n): \n",
    "        current_sum = current_sum + ith element of array \n",
    "        \n",
    "        if current_sum == m: # check if the current sum value matches m \n",
    "            result = result + 1 # increment result by 1 \n",
    "        else if (current_sum - m) in prefixsum: # check if the subtraction of m from current sum is \n",
    "                                                    already in the hashmap \n",
    "            result = result + prefixsum[current_sum - m] \n",
    "         \n",
    "         prefixsum[current_sum] = prefixsum[current_sum] + 1 #increasing the count of a particular sum if it \n",
    "                                                    repeats while traversing through the array return result \n",
    "<pre>"
   ]
  },
  {
   "cell_type": "markdown",
   "metadata": {},
   "source": [
    "## Problem 11\n",
    "#### Consider the following completed dynamic programming table, L, for a Longest Common Subsequence problem for string X with length 10 and string Y with length 12.\n",
    "#### • What is the length of the longest common subsequence? Explain. Answer this question on the perspective of just by looking at the values of the table L.\n",
    "#### • Show the path, in L(i, j), that a tracking algorithm will take to recover the longest common subsequence starting from L(9, 11). Given: the characters of X with indices {4, 5, 6, 7, 8, 9} match with the characters of Y with indices {0, 3, 4, 5, 7, 11}.\n"
   ]
  },
  {
   "cell_type": "markdown",
   "metadata": {},
   "source": [
    "### Ans)\n",
    "<pre>\n",
    "a.) By observing the completed dynamic programming table, the bottom right corner of the table \n",
    "pertains to L([length_X, length_Y]). By looking at this we can conclude that the length of the \n",
    "Longest Common Subsequence is 6. The following algorithm is used to fill the given Dynamic programming \n",
    "table is given below: \n",
    "\n",
    "if(X[i] = Y[j]): \n",
    "    L[i,j] = 1 + L[i-1,j-1] \n",
    "else: \n",
    "    L[i,j] = max(L[i-1,j] , L[i,j-1]) \n",
    "    \n",
    "Since, the largest number in the table is 6, therefore, the length of LCS is 6. \n",
    "\n",
    "b.) Here, we have given the characters of X with indices {4,5,6,7,8,9} match with characters of \n",
    "Y with indices {0,3,4,5,7,11}. The traversal logic given below is used to track the path.\n",
    "\n",
    "1] For each and every time there is a match (X[i − 1] == Y [j − 1]), we include that character as \n",
    "a part of LCS and move to L[i − 1][j − 1] cell i.e we move upwards diagonally. \n",
    "\n",
    "2] On the other hand if there is a mismatch, we compare value of L[i][j] with L[i-1][j] and L[j][i-1] \n",
    "and will go in the direction of greater values. \n",
    "\n",
    "Therefore, the path followed is:\n",
    "(9,11)   Here X[9] == Y[11] This means i-1 and j-1  -> this character X[i-1] is pushed to common substring.  \n",
    "(8,10)   Here X and Y do not match and L(8,9) >> L(7,10)  \n",
    "(8,9)    Here X and Y do not match and L(8,8) >> L(7,9)  \n",
    "(8,8)    Here X and Y do not match and L(8,7) >> L(7,8)  \n",
    "(8,7)    Here X[8] == Y[7] This means i-1 and j-1  -> this character X[i-1] is pushed to common substring.  \n",
    "(7,6)    Here X and Y do not match and L(7,5) >> L(6,6)  \n",
    "(7,5)    Here X[7] == Y[5] This means i-1 and j-1  -> this character X[i-1] is pushed to common substring.  \n",
    "(6,4)    Here X[6] == Y[4] This means i-1 and j-1  -> this character X[i-1] is pushed to common substring.  \n",
    "(5,3)    Here X[5] == Y[3] This means i-1 and j-1  -> this character X[i-1] is pushed to common substring.  \n",
    "(4,2)    Here X and Y do not match. \n",
    "However, the algorithm determines that both (4,1) and (3,2) are equal in the else condition, therefore it will exit. If we implement the code as shown below, we have a 50-50 probability of getting the proper solution at this stage if one of the two is chosen without foreknowledge. We decided to move ahead y such that the following iteration would include j-1.\n",
    "(4,1)    Here X and Y do not match and L(4,0) = L(3,1). using the same movement as before we move to j-1.    \n",
    "(4,0)    Here X[4] == Y[0] This means i-1 and j-1  -> this character X[i-1] is pushed to common substring.  \n",
    "(4,-1)   Exit condition reached.  \n",
    "\n",
    "Hence, the path that would be taken by the tracking algorithm to recover the LCS is: <br>\n",
    "<b> L(9,11)-> L(8,10)-> L(8,9) -> L(8,8) -> L(8,7) -> L(7,6) -> L(7,5) -> L(6,4) -> L(5,3) -> L(4,2) -> L(4,1) \n",
    "->L(4,0) -> L(3,-1). <b>\n",
    "<pre>"
   ]
  },
  {
   "cell_type": "code",
   "execution_count": null,
   "metadata": {},
   "outputs": [],
   "source": []
  }
 ],
 "metadata": {
  "kernelspec": {
   "display_name": "Python 3 (ipykernel)",
   "language": "python",
   "name": "python3"
  },
  "language_info": {
   "codemirror_mode": {
    "name": "ipython",
    "version": 3
   },
   "file_extension": ".py",
   "mimetype": "text/x-python",
   "name": "python",
   "nbconvert_exporter": "python",
   "pygments_lexer": "ipython3",
   "version": "3.8.11"
  }
 },
 "nbformat": 4,
 "nbformat_minor": 2
}
