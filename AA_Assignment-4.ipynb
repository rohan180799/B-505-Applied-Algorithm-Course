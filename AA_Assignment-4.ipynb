{
 "cells": [
  {
   "cell_type": "markdown",
   "id": "8f20e81c",
   "metadata": {},
   "source": [
    "## Question 1 "
   ]
  },
  {
   "cell_type": "code",
   "execution_count": 102,
   "id": "df111702",
   "metadata": {},
   "outputs": [
    {
     "name": "stdout",
     "output_type": "stream",
     "text": [
      "True\n",
      "1.4781951904296875e-05\n"
     ]
    }
   ],
   "source": [
    "import time\n",
    "class Method():\n",
    "    def __init__(self, l, m):\n",
    "        self.l = l\n",
    "        self.m = m\n",
    "    \n",
    "#     D1 = [2,4,9,7,5,8,2,5,6,3]\n",
    "#     D2 = [6,4,3,7,9,5,3,1,8,4]\n",
    "#     D3 = []\n",
    "#     D1.sort()\n",
    "#     D2.sort()\n",
    "    def find(self):\n",
    "        \n",
    "        i = 0\n",
    "        j = 0\n",
    "        \n",
    "        bool = False\n",
    "        while i < len(self.l) and j < len(self.m):\n",
    "        \n",
    "            if self.l[i] != self.m[j]:\n",
    "                return False\n",
    "            else:\n",
    "                i += 1\n",
    "                j += 1\n",
    "        return True\n",
    "\n",
    "if __name__ == \"__main__\":\n",
    "    D1 = [2,4,9,7,5,8,2,5,6,3,9,7]\n",
    "#     D1 = [8,5,6,8,9,3,4,56,6,1,9]\n",
    "#     D2 = [6,4,3,7,9,5,3,1,8,4]\n",
    "    D2 = [2,4,9,7,5,8,2,5,6,3]\n",
    "    \n",
    "    s_D1 = set(D1)\n",
    "    s_D2 = set(D2)\n",
    "    \n",
    "    list1 = list(s_D1)\n",
    "    list2 = list(s_D2)\n",
    "    \n",
    "    D1.sort()\n",
    "    D2.sort()\n",
    "        \n",
    "    m = Method(list1,list2)\n",
    "    start_time = time.time()\n",
    "    result = m.find()\n",
    "    end_time = time.time() - start_time \n",
    "    print (result)\n",
    "    print(end_time)"
   ]
  },
  {
   "cell_type": "markdown",
   "id": "dbb70f46",
   "metadata": {},
   "source": [
    "## Question 2"
   ]
  },
  {
   "cell_type": "code",
   "execution_count": 83,
   "id": "105486e3",
   "metadata": {},
   "outputs": [
    {
     "name": "stdout",
     "output_type": "stream",
     "text": [
      "Enter an integer: 7\n",
      "[1, 5, 9, 12, 20, 30, 38]\n"
     ]
    }
   ],
   "source": [
    "# import array as arr\n",
    "import random\n",
    "def myalgo2(a):\n",
    "    \n",
    "    for i in range(0,len(a)):\n",
    "        anchor = a[i]\n",
    "        j = i-1\n",
    "        while j>=0 and anchor < a[j]:\n",
    "            a[j+1] = a[j]\n",
    "            j = j - 1\n",
    "        a[j+1] = anchor\n",
    "\n",
    "\n",
    "if __name__ == '__main__':\n",
    "    n = int(input(\"Enter an integer: \"))\n",
    "    r = n**2 - 1\n",
    "    res = [random.randrange(0, r) for i in range(n)]\n",
    "#     a = [23,7,56,17,12,8,4,10]\n",
    "    myalgo2(res)\n",
    "    print(res)"
   ]
  },
  {
   "cell_type": "markdown",
   "id": "47bdcfc0",
   "metadata": {},
   "source": [
    "## Question 3"
   ]
  },
  {
   "cell_type": "code",
   "execution_count": 108,
   "id": "2aaa98ab",
   "metadata": {},
   "outputs": [
    {
     "name": "stdout",
     "output_type": "stream",
     "text": [
      "No duplicates found\n"
     ]
    }
   ],
   "source": [
    "def myalgo3(a):\n",
    "    temp = []\n",
    "    for i in range(len(a)):\n",
    "        for j in range(i+1, len(a)):\n",
    "            if a[i] == a[j] and a[i] not in temp:\n",
    "                temp.append(a[i])\n",
    "    if temp:\n",
    "        print(\"These are the duplicate values: {}\".format(temp))\n",
    "    else: \n",
    "        print(\"No duplicates found\")\n",
    "            \n",
    "            \n",
    "if __name__ == '__main__':\n",
    "    \n",
    "#     elements = [2,4,5,3,7,6,4,8,3,10,13,2,13,3]\n",
    "    elements = [1,3,4,2,5,8]\n",
    "    myalgo3(elements)"
   ]
  },
  {
   "cell_type": "markdown",
   "id": "90315cb3",
   "metadata": {},
   "source": [
    "## Question 4"
   ]
  },
  {
   "cell_type": "code",
   "execution_count": null,
   "id": "b09c11a7",
   "metadata": {},
   "outputs": [],
   "source": []
  },
  {
   "cell_type": "markdown",
   "id": "ae875ecc",
   "metadata": {},
   "source": [
    "## Question 5"
   ]
  },
  {
   "cell_type": "code",
   "execution_count": null,
   "id": "975299bf",
   "metadata": {},
   "outputs": [],
   "source": []
  },
  {
   "cell_type": "markdown",
   "id": "0a5dad5a",
   "metadata": {},
   "source": [
    "## Question 6"
   ]
  },
  {
   "cell_type": "code",
   "execution_count": null,
   "id": "51de6fe6",
   "metadata": {},
   "outputs": [],
   "source": []
  },
  {
   "cell_type": "markdown",
   "id": "2a24dc99",
   "metadata": {},
   "source": [
    "## Question 7"
   ]
  },
  {
   "cell_type": "code",
   "execution_count": null,
   "id": "3ca70899",
   "metadata": {},
   "outputs": [],
   "source": []
  }
 ],
 "metadata": {
  "kernelspec": {
   "display_name": "Python [conda env:aa] *",
   "language": "python",
   "name": "conda-env-aa-py"
  },
  "language_info": {
   "codemirror_mode": {
    "name": "ipython",
    "version": 3
   },
   "file_extension": ".py",
   "mimetype": "text/x-python",
   "name": "python",
   "nbconvert_exporter": "python",
   "pygments_lexer": "ipython3",
   "version": "3.8.11"
  }
 },
 "nbformat": 4,
 "nbformat_minor": 5
}
